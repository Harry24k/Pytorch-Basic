{
 "cells": [
  {
   "cell_type": "markdown",
   "metadata": {},
   "source": [
    "# 9. Neural Networks with Sphere example"
   ]
  },
  {
   "cell_type": "code",
   "execution_count": 1,
   "metadata": {},
   "outputs": [],
   "source": [
    "import numpy as np\n",
    "\n",
    "import torch\n",
    "import torch.nn as nn\n",
    "import torch.optim as optim\n",
    "\n",
    "from torch.utils.data import TensorDataset, DataLoader"
   ]
  },
  {
   "cell_type": "code",
   "execution_count": 2,
   "metadata": {},
   "outputs": [],
   "source": [
    "import matplotlib.pyplot as plt\n",
    "%matplotlib inline"
   ]
  },
  {
   "cell_type": "markdown",
   "metadata": {},
   "source": [
    "## 9.1 Generate Data"
   ]
  },
  {
   "cell_type": "code",
   "execution_count": 3,
   "metadata": {},
   "outputs": [],
   "source": [
    "def make_datasets(size, dim) :\n",
    "    x = torch.randn(size, dim)\n",
    "    y = torch.randn(size, dim)\n",
    "\n",
    "    x = x / x.norm(dim=1).view(size, 1)\n",
    "    y = 4 * y / y.norm(dim=1).view(size, 1)\n",
    "    \n",
    "    label_x = torch.ones(size)\n",
    "    label_y = torch.zeros(size)\n",
    "\n",
    "    data = torch.cat([x, y])\n",
    "    label = torch.cat([label_x, label_y])\n",
    "    \n",
    "    return TensorDataset(data, label)"
   ]
  },
  {
   "cell_type": "code",
   "execution_count": 4,
   "metadata": {},
   "outputs": [],
   "source": [
    "train_data = make_datasets(500, 2)\n",
    "test_data = make_datasets(100, 2)\n",
    "\n",
    "batch_size = 100\n",
    "\n",
    "train_loader = DataLoader(batch_size=batch_size, dataset=train_data, shuffle=True)\n",
    "test_loader = DataLoader(batch_size=batch_size, dataset=test_data, shuffle=False)\n",
    "\n",
    "# dataset (Dataset) – dataset from which to load the data.\n",
    "# batch_size (int, optional) – how many samples per batch to load (default: 1).\n",
    "# shuffle (bool, optional) – set to True to have the data reshuffled at every epoch (default: False)."
   ]
  },
  {
   "cell_type": "code",
   "execution_count": 5,
   "metadata": {},
   "outputs": [],
   "source": [
    "X = train_data.tensors[0]\n",
    "Y = train_data.tensors[1]"
   ]
  },
  {
   "cell_type": "code",
   "execution_count": 6,
   "metadata": {},
   "outputs": [
    {
     "data": {
      "image/png": "[encoded data removed]",
      "text/plain": [
       "<Figure size 360x288 with 2 Axes>"
      ]
     },
     "metadata": {},
     "output_type": "display_data"
    }
   ],
   "source": [
    "fig = plt.figure(figsize = (5, 4))\n",
    "plt.scatter(X[:, 0], X[:, 1], c = Y)\n",
    "plt.colorbar()\n",
    "plt.show()"
   ]
  },
  {
   "cell_type": "markdown",
   "metadata": {},
   "source": [
    "## 9.2 Define Model"
   ]
  },
  {
   "cell_type": "code",
   "execution_count": 7,
   "metadata": {},
   "outputs": [],
   "source": [
    "model = nn.Sequential(\n",
    "    nn.Linear(2, 1000),\n",
    "    nn.ReLU(),\n",
    "    nn.Linear(1000, 1000),\n",
    "    nn.ReLU(),\n",
    "    nn.Linear(1000, 1),\n",
    "    nn.Sigmoid()\n",
    ")"
   ]
  },
  {
   "cell_type": "markdown",
   "metadata": {},
   "source": [
    "## 9.3 Train Model"
   ]
  },
  {
   "cell_type": "code",
   "execution_count": 8,
   "metadata": {},
   "outputs": [],
   "source": [
    "loss = nn.BCELoss()\n",
    "optimizer = optim.SGD(model.parameters(), lr=0.1)"
   ]
  },
  {
   "cell_type": "code",
   "execution_count": 9,
   "metadata": {},
   "outputs": [],
   "source": [
    "num_epochs = 10"
   ]
  },
  {
   "cell_type": "code",
   "execution_count": 10,
   "metadata": {
    "scrolled": false
   },
   "outputs": [
    {
     "name": "stdout",
     "output_type": "stream",
     "text": [
      "lter [1/10], Loss: 0.6726\n",
      "lter [2/10], Loss: 0.6737\n",
      "lter [3/10], Loss: 0.5254\n",
      "lter [4/10], Loss: 0.4963\n",
      "lter [5/10], Loss: 0.3554\n",
      "lter [6/10], Loss: 0.3695\n",
      "lter [7/10], Loss: 0.3047\n",
      "lter [8/10], Loss: 0.2752\n",
      "lter [9/10], Loss: 0.2148\n",
      "lter [10/10], Loss: 0.1778\n",
      "Learning Finished!\n"
     ]
    }
   ],
   "source": [
    "model.train()\n",
    "    \n",
    "for i, (batch_data, batch_labels) in enumerate(train_loader):\n",
    "\n",
    "    X = batch_data\n",
    "    Y = batch_labels\n",
    "\n",
    "    pre = model(X)\n",
    "    cost = loss(pre.squeeze(), Y)\n",
    "\n",
    "    optimizer.zero_grad()\n",
    "    cost.backward()\n",
    "    optimizer.step()\n",
    "    \n",
    "    print('lter [%d/%d], Loss: %.4f'%(i+1, len(train_loader), cost.item()))\n",
    "    \n",
    "print(\"Learning Finished!\")"
   ]
  },
  {
   "cell_type": "markdown",
   "metadata": {},
   "source": [
    "## 9.3 Test Model"
   ]
  },
  {
   "cell_type": "code",
   "execution_count": 11,
   "metadata": {},
   "outputs": [
    {
     "name": "stdout",
     "output_type": "stream",
     "text": [
      "Accuracy of test images: 100.000000 %\n",
      "Misclassified : 0 %\n"
     ]
    }
   ],
   "source": [
    "correct = 0\n",
    "total = 0\n",
    "\n",
    "for data, labels in test_loader:\n",
    "    \n",
    "    outputs = model(data)\n",
    "    \n",
    "    predicted = outputs.squeeze().data > 0.5\n",
    "    total += data.shape[0]\n",
    "    correct += (predicted == labels).sum()\n",
    "    \n",
    "print('Accuracy of test images: %f %%' % (100 * float(correct) / total))\n",
    "print('Misclassified : %d %%' % (total - correct))"
   ]
  },
  {
   "cell_type": "markdown",
   "metadata": {},
   "source": [
    "## 9.4 Decision Boundary"
   ]
  },
  {
   "cell_type": "code",
   "execution_count": 12,
   "metadata": {},
   "outputs": [],
   "source": [
    "grid_size = 500\n",
    "x = torch.linspace(-5, 5, grid_size)\n",
    "y = torch.linspace(-5, 5, grid_size)\n",
    "xv, yv = torch.meshgrid(x, y)"
   ]
  },
  {
   "cell_type": "code",
   "execution_count": 13,
   "metadata": {},
   "outputs": [
    {
     "data": {
      "text/plain": [
       "(torch.Size([500, 500]), torch.Size([500, 500]))"
      ]
     },
     "execution_count": 13,
     "metadata": {},
     "output_type": "execute_result"
    }
   ],
   "source": [
    "xv.shape, yv.shape"
   ]
  },
  {
   "cell_type": "code",
   "execution_count": 14,
   "metadata": {},
   "outputs": [],
   "source": [
    "xv = xv.reshape(-1, 1)\n",
    "yv = yv.reshape(-1, 1)"
   ]
  },
  {
   "cell_type": "code",
   "execution_count": 15,
   "metadata": {},
   "outputs": [
    {
     "data": {
      "text/plain": [
       "tensor([[-5.0000, -5.0000],\n",
       "        [-5.0000, -4.9800],\n",
       "        [-5.0000, -4.9599],\n",
       "        ...,\n",
       "        [ 5.0000,  4.9599],\n",
       "        [ 5.0000,  4.9800],\n",
       "        [ 5.0000,  5.0000]])"
      ]
     },
     "execution_count": 15,
     "metadata": {},
     "output_type": "execute_result"
    }
   ],
   "source": [
    "torch.cat([xv, yv], dim=1)"
   ]
  },
  {
   "cell_type": "code",
   "execution_count": 16,
   "metadata": {},
   "outputs": [],
   "source": [
    "z = model(torch.cat([xv, yv], dim=1)) > 0.5"
   ]
  },
  {
   "cell_type": "code",
   "execution_count": 17,
   "metadata": {},
   "outputs": [
    {
     "data": {
      "image/png": "[encoded data removed]",
      "text/plain": [
       "<Figure size 360x288 with 2 Axes>"
      ]
     },
     "metadata": {},
     "output_type": "display_data"
    }
   ],
   "source": [
    "x = xv.data.numpy().reshape(grid_size, grid_size)\n",
    "y = yv.data.numpy().reshape(grid_size, grid_size)\n",
    "z = z.data.numpy().reshape(grid_size, grid_size)\n",
    "\n",
    "fig = plt.figure(figsize = (5, 4))\n",
    "plt.scatter(X[:, 0], X[:, 1], c = Y)\n",
    "plt.contourf(x, y, z, alpha=0.3)\n",
    "plt.colorbar()\n",
    "plt.show()"
   ]
  },
  {
   "cell_type": "code",
   "execution_count": null,
   "metadata": {},
   "outputs": [],
   "source": []
  },
  {
   "cell_type": "code",
   "execution_count": null,
   "metadata": {},
   "outputs": [],
   "source": []
  },
  {
   "cell_type": "code",
   "execution_count": null,
   "metadata": {},
   "outputs": [],
   "source": []
  },
  {
   "cell_type": "code",
   "execution_count": null,
   "metadata": {},
   "outputs": [],
   "source": []
  },
  {
   "cell_type": "code",
   "execution_count": null,
   "metadata": {},
   "outputs": [],
   "source": []
  },
  {
   "cell_type": "code",
   "execution_count": null,
   "metadata": {},
   "outputs": [],
   "source": []
  }
 ],
 "metadata": {
  "kernelspec": {
   "display_name": "Python 3",
   "language": "python",
   "name": "python3"
  },
  "language_info": {
   "codemirror_mode": {
    "name": "ipython",
    "version": 3
   },
   "file_extension": ".py",
   "mimetype": "text/x-python",
   "name": "python",
   "nbconvert_exporter": "python",
   "pygments_lexer": "ipython3",
   "version": "3.6.5"
  }
 },
 "nbformat": 4,
 "nbformat_minor": 2
}
