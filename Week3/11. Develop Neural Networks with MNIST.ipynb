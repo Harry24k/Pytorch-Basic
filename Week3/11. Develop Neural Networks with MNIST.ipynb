{
 "cells": [
  {
   "cell_type": "markdown",
   "metadata": {},
   "source": [
    "# 11. Neural Networks with MNIST"
   ]
  },
  {
   "cell_type": "code",
   "execution_count": 1,
   "metadata": {},
   "outputs": [],
   "source": [
    "import torch\n",
    "import torch.nn as nn\n",
    "import torch.optim as optim\n",
    "import torch.nn.init as init\n",
    "from torch.utils.data import DataLoader\n",
    "\n",
    "import torchvision.datasets as dsets\n",
    "import torchvision.transforms as transforms\n",
    "\n",
    "import numpy as np\n",
    "import os"
   ]
  },
  {
   "cell_type": "code",
   "execution_count": 2,
   "metadata": {},
   "outputs": [],
   "source": [
    "import matplotlib.pyplot as plt\n",
    "%matplotlib inline"
   ]
  },
  {
   "cell_type": "markdown",
   "metadata": {},
   "source": [
    "## 11.1 Prepare MNIST Data"
   ]
  },
  {
   "cell_type": "code",
   "execution_count": 3,
   "metadata": {},
   "outputs": [],
   "source": [
    "# https://pytorch.org/docs/stable/torchvision/transforms.html\n",
    "\n",
    "transform = transforms.Compose([\n",
    "#           Data Augmentation\n",
    "#           transforms.RandomRotation(15)\n",
    "#           transforms.CenterCrop(28),\n",
    "#           transforms.Lambda(lambda x: x.rotate(15)),\n",
    "    \n",
    "#           Data Nomalization\n",
    "            transforms.ToTensor(),\n",
    "            transforms.Normalize(mean=(0.5,), std=(0.5,))\n",
    "# Normalize a tensor image with mean and standard deviation.\n",
    "# Given mean: (M1,...,Mn) and std: (S1,..,Sn) for n channels,\n",
    "# this transform will normalize each channel of the input torch.\n",
    "# *Tensor i.e. input[channel] = (input[channel] - mean[channel]) / std[channel]\n",
    "            ])\n",
    "\n",
    "\n",
    "train_data = dsets.MNIST(root='data/',\n",
    "                         train=True,\n",
    "                         transform=transform,\n",
    "                         download=True)\n",
    "\n",
    "test_data = dsets.MNIST(root='data/',\n",
    "                        train=False,\n",
    "                        transform=transform,\n",
    "                        download=True)"
   ]
  },
  {
   "cell_type": "code",
   "execution_count": 4,
   "metadata": {
    "scrolled": true
   },
   "outputs": [
    {
     "data": {
      "text/plain": [
       "(torch.Size([60000, 28, 28]), torch.Size([10000, 28, 28]))"
      ]
     },
     "execution_count": 4,
     "metadata": {},
     "output_type": "execute_result"
    }
   ],
   "source": [
    "train_data.data.size(), test_data.data.size()"
   ]
  },
  {
   "cell_type": "markdown",
   "metadata": {},
   "source": [
    "## 11.2 Make Batch Loader"
   ]
  },
  {
   "cell_type": "code",
   "execution_count": 5,
   "metadata": {},
   "outputs": [],
   "source": [
    "batch_size = 100\n",
    "\n",
    "train_loader  = DataLoader(dataset=train_data,\n",
    "                           batch_size=batch_size,\n",
    "                           shuffle=True,\n",
    "                           num_workers=1)\n",
    "\n",
    "test_loader  = DataLoader(dataset=test_data,\n",
    "                           batch_size=batch_size,\n",
    "                           shuffle=True,\n",
    "                           num_workers=1)"
   ]
  },
  {
   "cell_type": "markdown",
   "metadata": {},
   "source": [
    "## 11.3 Define Model"
   ]
  },
  {
   "cell_type": "code",
   "execution_count": 6,
   "metadata": {},
   "outputs": [],
   "source": [
    "model = torch.nn.Sequential(\n",
    "    torch.nn.Linear(784, 512),\n",
    "    torch.nn.ReLU(),\n",
    "    #Dropout\n",
    "    nn.Dropout(0.5),\n",
    "    \n",
    "    torch.nn.Linear(512, 256),\n",
    "    torch.nn.ReLU(),\n",
    "    \n",
    "    torch.nn.Linear(256, 64),\n",
    "    #Batch Nomalization\n",
    "    nn.BatchNorm1d(64),\n",
    "    torch.nn.ReLU(),\n",
    "    \n",
    "    torch.nn.Linear(64, 10)\n",
    ")"
   ]
  },
  {
   "cell_type": "code",
   "execution_count": 7,
   "metadata": {},
   "outputs": [],
   "source": [
    "# Weight Initialization\n",
    "\n",
    "for m in model.modules() :\n",
    "    if isinstance(m, nn.Linear):\n",
    "        # init.xavier_normal(m.weight.data)\n",
    "        init.kaiming_normal_(m.weight.data)\n",
    "        m.bias.data.fill_(0)                "
   ]
  },
  {
   "cell_type": "code",
   "execution_count": 8,
   "metadata": {},
   "outputs": [],
   "source": [
    "loss = nn.CrossEntropyLoss()\n",
    "optimizer = optim.Adam(model.parameters(), lr=0.001)\n",
    "\n",
    "# Momentum & Weight Regularization(L2)\n",
    "# optim.SGD(model.parameters(), lr=1e-2, momentum=0.9, weight_decay=1e-5)"
   ]
  },
  {
   "cell_type": "markdown",
   "metadata": {},
   "source": [
    "## 11.4 Train Model"
   ]
  },
  {
   "cell_type": "code",
   "execution_count": 9,
   "metadata": {},
   "outputs": [],
   "source": [
    "num_epochs = 10"
   ]
  },
  {
   "cell_type": "code",
   "execution_count": 10,
   "metadata": {},
   "outputs": [],
   "source": [
    "def test_model() :\n",
    "    \n",
    "    model.eval()\n",
    "    \n",
    "    correct = 0\n",
    "    total = 0\n",
    "\n",
    "    for images, labels in test_loader :\n",
    "\n",
    "        outputs = model(images.view(-1, 28 * 28))\n",
    "        _, predicted = torch.max(outputs.data, 1)\n",
    "\n",
    "        total += labels.size(0)\n",
    "        correct += (predicted == labels).sum()\n",
    "\n",
    "    print('Accuracy of test images: %f %%' % (100 * float(correct) / total))"
   ]
  },
  {
   "cell_type": "code",
   "execution_count": 11,
   "metadata": {},
   "outputs": [],
   "source": [
    "save_path = '/model/'\n",
    "\n",
    "if not os.path.exists(save_path):\n",
    "    os.makedirs(save_path)"
   ]
  },
  {
   "cell_type": "code",
   "execution_count": 12,
   "metadata": {},
   "outputs": [
    {
     "name": "stdout",
     "output_type": "stream",
     "text": [
      "Epoch [1/10], lter [300/600], Loss: 0.3871\n",
      "Accuracy of test images: 92.450000 %\n",
      "/model/model_1_300.pth\n",
      "Epoch [1/10], lter [600/600], Loss: 0.2112\n",
      "Accuracy of test images: 94.850000 %\n",
      "/model/model_1_600.pth\n",
      "Epoch [2/10], lter [300/600], Loss: 0.2077\n",
      "Accuracy of test images: 95.600000 %\n",
      "/model/model_2_300.pth\n",
      "Epoch [2/10], lter [600/600], Loss: 0.4839\n",
      "Accuracy of test images: 95.970000 %\n",
      "/model/model_2_600.pth\n",
      "Epoch [3/10], lter [300/600], Loss: 0.1577\n",
      "Accuracy of test images: 95.720000 %\n",
      "/model/model_3_300.pth\n",
      "Epoch [3/10], lter [600/600], Loss: 0.1697\n",
      "Accuracy of test images: 96.400000 %\n",
      "/model/model_3_600.pth\n",
      "Epoch [4/10], lter [300/600], Loss: 0.2228\n",
      "Accuracy of test images: 96.100000 %\n",
      "/model/model_4_300.pth\n",
      "Epoch [4/10], lter [600/600], Loss: 0.2678\n",
      "Accuracy of test images: 96.260000 %\n",
      "/model/model_4_600.pth\n",
      "Epoch [5/10], lter [300/600], Loss: 0.2501\n",
      "Accuracy of test images: 96.710000 %\n",
      "/model/model_5_300.pth\n",
      "Epoch [5/10], lter [600/600], Loss: 0.0652\n",
      "Accuracy of test images: 96.820000 %\n",
      "/model/model_5_600.pth\n",
      "Epoch [6/10], lter [300/600], Loss: 0.2168\n",
      "Accuracy of test images: 96.850000 %\n",
      "/model/model_6_300.pth\n",
      "Epoch [6/10], lter [600/600], Loss: 0.1290\n",
      "Accuracy of test images: 97.000000 %\n",
      "/model/model_6_600.pth\n",
      "Epoch [7/10], lter [300/600], Loss: 0.1127\n",
      "Accuracy of test images: 97.090000 %\n",
      "/model/model_7_300.pth\n",
      "Epoch [7/10], lter [600/600], Loss: 0.1422\n",
      "Accuracy of test images: 96.900000 %\n",
      "/model/model_7_600.pth\n",
      "Epoch [8/10], lter [300/600], Loss: 0.0976\n",
      "Accuracy of test images: 97.240000 %\n",
      "/model/model_8_300.pth\n",
      "Epoch [8/10], lter [600/600], Loss: 0.0399\n",
      "Accuracy of test images: 97.440000 %\n",
      "/model/model_8_600.pth\n",
      "Epoch [9/10], lter [300/600], Loss: 0.0309\n",
      "Accuracy of test images: 97.430000 %\n",
      "/model/model_9_300.pth\n",
      "Epoch [9/10], lter [600/600], Loss: 0.0837\n",
      "Accuracy of test images: 97.210000 %\n",
      "/model/model_9_600.pth\n",
      "Epoch [10/10], lter [300/600], Loss: 0.1358\n",
      "Accuracy of test images: 97.470000 %\n",
      "/model/model_10_300.pth\n",
      "Epoch [10/10], lter [600/600], Loss: 0.0715\n",
      "Accuracy of test images: 97.400000 %\n",
      "/model/model_10_600.pth\n",
      "Learning Finished!\n"
     ]
    }
   ],
   "source": [
    "for epoch in range(num_epochs):\n",
    "    \n",
    "    total_batch = len(train_data) // batch_size\n",
    "    \n",
    "    for i, (batch_images, batch_labels) in enumerate(train_loader):\n",
    "        \n",
    "        X = batch_images.view(-1, 28 * 28)\n",
    "        Y = batch_labels\n",
    "        \n",
    "        pre = model(X)\n",
    "        cost = loss(pre, Y)\n",
    "        \n",
    "        optimizer.zero_grad()\n",
    "        cost.backward()\n",
    "        optimizer.step()\n",
    "        \n",
    "        if (i+1) % 300 == 0:\n",
    "            print('Epoch [%d/%d], lter [%d/%d], Loss: %.4f'\n",
    "                 %(epoch+1, num_epochs, i+1, total_batch, cost.item()))\n",
    "            \n",
    "            # Test Model\n",
    "            test_model()\n",
    "            \n",
    "            # Save Model\n",
    "            model_path = save_path + 'model_' + str(epoch+1) + '_' + str(i+1) + '.pth'\n",
    "            print(model_path)\n",
    "            torch.save(model.state_dict(), model_path)\n",
    "            \n",
    "            model.train()\n",
    "    \n",
    "print(\"Learning Finished!\")"
   ]
  },
  {
   "cell_type": "markdown",
   "metadata": {},
   "source": [
    "## 11.5 Test Model"
   ]
  },
  {
   "cell_type": "code",
   "execution_count": 17,
   "metadata": {},
   "outputs": [],
   "source": [
    "model = torch.nn.Sequential(\n",
    "    torch.nn.Linear(784, 512),\n",
    "    torch.nn.ReLU(),\n",
    "    #Dropout\n",
    "    nn.Dropout(0.5),\n",
    "    \n",
    "    torch.nn.Linear(512, 256),\n",
    "    torch.nn.ReLU(),\n",
    "    \n",
    "    torch.nn.Linear(256, 64),\n",
    "    #Batch Nomalization\n",
    "    nn.BatchNorm1d(64),\n",
    "    torch.nn.ReLU(),\n",
    "    \n",
    "    torch.nn.Linear(64, 10)\n",
    ")"
   ]
  },
  {
   "cell_type": "code",
   "execution_count": 18,
   "metadata": {},
   "outputs": [
    {
     "name": "stdout",
     "output_type": "stream",
     "text": [
      "Accuracy of test images: 97.470000 %\n"
     ]
    }
   ],
   "source": [
    "model.load_state_dict(torch.load('/model/model_10_300.pth'))\n",
    "\n",
    "model.eval()\n",
    "\n",
    "correct = 0\n",
    "total = 0\n",
    "\n",
    "for images, labels in test_data:\n",
    "    \n",
    "    images  = images.view(-1, 28 * 28)\n",
    "    outputs = model(images)\n",
    "    \n",
    "    _, predicted = torch.max(outputs.data, 1)\n",
    "    total += 1\n",
    "    correct += (predicted == labels).sum()\n",
    "    \n",
    "print('Accuracy of test images: %f %%' % (100 * float(correct) / total))"
   ]
  }
 ],
 "metadata": {
  "kernelspec": {
   "display_name": "Python 3",
   "language": "python",
   "name": "python3"
  },
  "language_info": {
   "codemirror_mode": {
    "name": "ipython",
    "version": 3
   },
   "file_extension": ".py",
   "mimetype": "text/x-python",
   "name": "python",
   "nbconvert_exporter": "python",
   "pygments_lexer": "ipython3",
   "version": "3.6.5"
  }
 },
 "nbformat": 4,
 "nbformat_minor": 2
}
