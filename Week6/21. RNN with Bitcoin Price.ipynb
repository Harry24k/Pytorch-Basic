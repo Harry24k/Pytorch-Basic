{
 "cells": [
  {
   "cell_type": "markdown",
   "metadata": {},
   "source": [
    "# 21. RNN with Bitcoin Price"
   ]
  },
  {
   "cell_type": "code",
   "execution_count": 1,
   "metadata": {},
   "outputs": [],
   "source": [
    "import torch\n",
    "import torch.nn as nn\n",
    "import torch.utils.data as Data\n",
    "\n",
    "import random\n",
    "import numpy as np\n",
    "import pandas as pd\n",
    "\n",
    "import sklearn.metrics as metrics"
   ]
  },
  {
   "cell_type": "code",
   "execution_count": 2,
   "metadata": {},
   "outputs": [],
   "source": [
    "import matplotlib.pyplot as plt\n",
    "%matplotlib inline"
   ]
  },
  {
   "cell_type": "markdown",
   "metadata": {},
   "source": [
    "## 21.1 Prepare Data"
   ]
  },
  {
   "cell_type": "code",
   "execution_count": 3,
   "metadata": {},
   "outputs": [
    {
     "data": {
      "text/html": [
       "<div>\n",
       "<style scoped>\n",
       "    .dataframe tbody tr th:only-of-type {\n",
       "        vertical-align: middle;\n",
       "    }\n",
       "\n",
       "    .dataframe tbody tr th {\n",
       "        vertical-align: top;\n",
       "    }\n",
       "\n",
       "    .dataframe thead th {\n",
       "        text-align: right;\n",
       "    }\n",
       "</style>\n",
       "<table border=\"1\" class=\"dataframe\">\n",
       "  <thead>\n",
       "    <tr style=\"text-align: right;\">\n",
       "      <th></th>\n",
       "      <th>date</th>\n",
       "      <th>price</th>\n",
       "    </tr>\n",
       "  </thead>\n",
       "  <tbody>\n",
       "    <tr>\n",
       "      <th>0</th>\n",
       "      <td>2013-01-02 0:00</td>\n",
       "      <td>13.40000</td>\n",
       "    </tr>\n",
       "    <tr>\n",
       "      <th>1</th>\n",
       "      <td>2013-01-04 0:00</td>\n",
       "      <td>13.48986</td>\n",
       "    </tr>\n",
       "    <tr>\n",
       "      <th>2</th>\n",
       "      <td>2013-01-06 0:00</td>\n",
       "      <td>13.52999</td>\n",
       "    </tr>\n",
       "    <tr>\n",
       "      <th>3</th>\n",
       "      <td>2013-01-08 0:00</td>\n",
       "      <td>13.83000</td>\n",
       "    </tr>\n",
       "    <tr>\n",
       "      <th>4</th>\n",
       "      <td>2013-01-10 0:00</td>\n",
       "      <td>14.32000</td>\n",
       "    </tr>\n",
       "  </tbody>\n",
       "</table>\n",
       "</div>"
      ],
      "text/plain": [
       "              date     price\n",
       "0  2013-01-02 0:00  13.40000\n",
       "1  2013-01-04 0:00  13.48986\n",
       "2  2013-01-06 0:00  13.52999\n",
       "3  2013-01-08 0:00  13.83000\n",
       "4  2013-01-10 0:00  14.32000"
      ]
     },
     "execution_count": 3,
     "metadata": {},
     "output_type": "execute_result"
    }
   ],
   "source": [
    "raw_data = pd.read_csv('data/bitcoin_data.csv')\n",
    "raw_data.head()"
   ]
  },
  {
   "cell_type": "code",
   "execution_count": 4,
   "metadata": {},
   "outputs": [
    {
     "data": {
      "text/plain": [
       "906"
      ]
     },
     "execution_count": 4,
     "metadata": {},
     "output_type": "execute_result"
    }
   ],
   "source": [
    "len(raw_data)"
   ]
  },
  {
   "cell_type": "code",
   "execution_count": 5,
   "metadata": {},
   "outputs": [
    {
     "data": {
      "text/html": [
       "<div>\n",
       "<style scoped>\n",
       "    .dataframe tbody tr th:only-of-type {\n",
       "        vertical-align: middle;\n",
       "    }\n",
       "\n",
       "    .dataframe tbody tr th {\n",
       "        vertical-align: top;\n",
       "    }\n",
       "\n",
       "    .dataframe thead th {\n",
       "        text-align: right;\n",
       "    }\n",
       "</style>\n",
       "<table border=\"1\" class=\"dataframe\">\n",
       "  <thead>\n",
       "    <tr style=\"text-align: right;\">\n",
       "      <th></th>\n",
       "      <th>date</th>\n",
       "      <th>price</th>\n",
       "    </tr>\n",
       "  </thead>\n",
       "  <tbody>\n",
       "    <tr>\n",
       "      <th>500</th>\n",
       "      <td>2015-09-29 0:00</td>\n",
       "      <td>237.68</td>\n",
       "    </tr>\n",
       "    <tr>\n",
       "      <th>501</th>\n",
       "      <td>2015-10-01 0:00</td>\n",
       "      <td>238.98</td>\n",
       "    </tr>\n",
       "    <tr>\n",
       "      <th>502</th>\n",
       "      <td>2015-10-03 0:00</td>\n",
       "      <td>239.17</td>\n",
       "    </tr>\n",
       "    <tr>\n",
       "      <th>503</th>\n",
       "      <td>2015-10-05 0:00</td>\n",
       "      <td>239.22</td>\n",
       "    </tr>\n",
       "    <tr>\n",
       "      <th>504</th>\n",
       "      <td>2015-10-07 0:00</td>\n",
       "      <td>245.25</td>\n",
       "    </tr>\n",
       "    <tr>\n",
       "      <th>505</th>\n",
       "      <td>2015-10-09 0:00</td>\n",
       "      <td>244.78</td>\n",
       "    </tr>\n",
       "    <tr>\n",
       "      <th>506</th>\n",
       "      <td>2015-10-11 0:00</td>\n",
       "      <td>248.08</td>\n",
       "    </tr>\n",
       "    <tr>\n",
       "      <th>507</th>\n",
       "      <td>2015-10-13 0:00</td>\n",
       "      <td>249.58</td>\n",
       "    </tr>\n",
       "    <tr>\n",
       "      <th>508</th>\n",
       "      <td>2015-10-15 0:00</td>\n",
       "      <td>254.73</td>\n",
       "    </tr>\n",
       "    <tr>\n",
       "      <th>509</th>\n",
       "      <td>2015-10-17 0:00</td>\n",
       "      <td>269.07</td>\n",
       "    </tr>\n",
       "  </tbody>\n",
       "</table>\n",
       "</div>"
      ],
      "text/plain": [
       "                date   price\n",
       "500  2015-09-29 0:00  237.68\n",
       "501  2015-10-01 0:00  238.98\n",
       "502  2015-10-03 0:00  239.17\n",
       "503  2015-10-05 0:00  239.22\n",
       "504  2015-10-07 0:00  245.25\n",
       "505  2015-10-09 0:00  244.78\n",
       "506  2015-10-11 0:00  248.08\n",
       "507  2015-10-13 0:00  249.58\n",
       "508  2015-10-15 0:00  254.73\n",
       "509  2015-10-17 0:00  269.07"
      ]
     },
     "execution_count": 5,
     "metadata": {},
     "output_type": "execute_result"
    }
   ],
   "source": [
    "sample_data = raw_data[500:510]\n",
    "sample_data"
   ]
  },
  {
   "cell_type": "code",
   "execution_count": 6,
   "metadata": {},
   "outputs": [
    {
     "data": {
      "image/png": "[encoded data removed]",
      "text/plain": [
       "<Figure size 864x576 with 1 Axes>"
      ]
     },
     "metadata": {},
     "output_type": "display_data"
    }
   ],
   "source": [
    "plt.figure(figsize=(12, 8))\n",
    "plt.plot(sample_data['date'],sample_data['price'],'o-')\n",
    "plt.title(\"Bitcoin Price\", fontdict={'size':15})\n",
    "plt.xlabel('Date', fontdict={'size':15})\n",
    "plt.ylabel('Price', fontdict={'size':15})\n",
    "plt.show()"
   ]
  },
  {
   "cell_type": "code",
   "execution_count": 7,
   "metadata": {},
   "outputs": [],
   "source": [
    "train_data = raw_data['price'][:800]\n",
    "test_data = raw_data['price'][800:]"
   ]
  },
  {
   "cell_type": "markdown",
   "metadata": {},
   "source": [
    "## 21.2 Define Model"
   ]
  },
  {
   "cell_type": "code",
   "execution_count": 8,
   "metadata": {},
   "outputs": [],
   "source": [
    "# Parameters:\t\n",
    "# input_size – The number of expected features in the input x\n",
    "# hidden_size – The number of features in the hidden state h\n",
    "# num_layers – Number of recurrent layers. E.g., setting num_layers=2 would mean stacking two RNNs together to form a stacked RNN, with the second RNN taking in outputs of the first RNN and computing the final results. Default: 1\n",
    "# nonlinearity – The non-linearity to use. Can be either ‘tanh’ or ‘relu’. Default: ‘tanh’\n",
    "# bias – If False, then the layer does not use bias weights b_ih and b_hh. Default: True\n",
    "# batch_first – If True, then the input and output tensors are provided as (batch, seq, feature). Default: False\n",
    "# dropout – If non-zero, introduces a Dropout layer on the outputs of each RNN layer except the last layer, with dropout probability equal to dropout. Default: 0\n",
    "# bidirectional – If True, becomes a bidirectional RNN. Default: False"
   ]
  },
  {
   "cell_type": "code",
   "execution_count": 9,
   "metadata": {},
   "outputs": [],
   "source": [
    "class RNN(nn.Module):\n",
    "    def __init__(self, input_size, hidden_size, output_size, num_layers):\n",
    "        super(RNN, self).__init__()\n",
    "        self.input_size = input_size\n",
    "        self.hidden_size = hidden_size\n",
    "        self.output_size = output_size\n",
    "        self.num_layers = num_layers\n",
    "        \n",
    "        #self.rnn = nn.GRU(input_size, hidden_size, num_layers)\n",
    "        self.rnn = nn.RNN(input_size, hidden_size, num_layers, nonlinearity='relu', batch_first=True)\n",
    "        self.fc = nn.Linear(hidden_size, output_size)\n",
    "        \n",
    "    def forward(self, input, hidden) :\n",
    "        # input of shape (batch, seq_len, input_size)\n",
    "        # output of shape (batch, seq_len, hidden_size)\n",
    "        out, hidden = self.rnn(input, hidden)\n",
    "        \n",
    "        # fc_output of shape (batch, seq_len, output_size)\n",
    "        fc_out = self.fc(out)\n",
    "        return fc_out, hidden\n",
    "\n",
    "    def init_hidden(self, batch_size):\n",
    "        # h of shape (num_layers, batch, hidden_size)\n",
    "        hidden = torch.zeros(self.num_layers, batch_size, self.hidden_size).cuda()\n",
    "        return hidden"
   ]
  },
  {
   "cell_type": "code",
   "execution_count": 10,
   "metadata": {},
   "outputs": [],
   "source": [
    "seq_len = 10\n",
    "num_layers = 2"
   ]
  },
  {
   "cell_type": "code",
   "execution_count": 11,
   "metadata": {},
   "outputs": [],
   "source": [
    "model = RNN(1, 32, 1, num_layers).cuda()"
   ]
  },
  {
   "cell_type": "markdown",
   "metadata": {},
   "source": [
    "## 21.3 Data Preprocessing"
   ]
  },
  {
   "cell_type": "code",
   "execution_count": 12,
   "metadata": {},
   "outputs": [],
   "source": [
    "x = train_data[0 : seq_len].values\n",
    "y = train_data[1 : seq_len+1].values\n",
    "for sp in range(1, len(train_data) - seq_len) :\n",
    "    x = np.vstack((x, train_data[sp : sp+seq_len].values))\n",
    "    y = np.vstack((y, train_data[sp + 1 : sp+seq_len + 1].values))"
   ]
  },
  {
   "cell_type": "code",
   "execution_count": 13,
   "metadata": {},
   "outputs": [],
   "source": [
    "x = torch.from_numpy(x).type(torch.FloatTensor)\n",
    "y = torch.from_numpy(y).type(torch.FloatTensor)"
   ]
  },
  {
   "cell_type": "code",
   "execution_count": 14,
   "metadata": {},
   "outputs": [],
   "source": [
    "train_data = Data.TensorDataset(x, y)\n",
    "\n",
    "batch_size = 10\n",
    "\n",
    "train_loader = Data.DataLoader(dataset=train_data,\n",
    "                              batch_size=batch_size,\n",
    "                              shuffle=True,\n",
    "                              drop_last = True)"
   ]
  },
  {
   "cell_type": "markdown",
   "metadata": {},
   "source": [
    "## 21.4 Train Model"
   ]
  },
  {
   "cell_type": "code",
   "execution_count": 15,
   "metadata": {},
   "outputs": [],
   "source": [
    "optimizer = torch.optim.Adam(model.parameters(), lr=0.001)\n",
    "loss = nn.MSELoss()"
   ]
  },
  {
   "cell_type": "code",
   "execution_count": 16,
   "metadata": {},
   "outputs": [],
   "source": [
    "num_epochs = 10"
   ]
  },
  {
   "cell_type": "code",
   "execution_count": 17,
   "metadata": {
    "scrolled": true
   },
   "outputs": [
    {
     "name": "stdout",
     "output_type": "stream",
     "text": [
      "Epoch [1/10], lter [20/79], Loss: 250887.0938\n",
      "Epoch [1/10], lter [40/79], Loss: 57354.2969\n",
      "Epoch [1/10], lter [60/79], Loss: 66762.8516\n",
      "Epoch [2/10], lter [20/79], Loss: 12747.3311\n",
      "Epoch [2/10], lter [40/79], Loss: 16353.3926\n",
      "Epoch [2/10], lter [60/79], Loss: 2941.0237\n",
      "Epoch [3/10], lter [20/79], Loss: 1433.3604\n",
      "Epoch [3/10], lter [40/79], Loss: 1941.4967\n",
      "Epoch [3/10], lter [60/79], Loss: 1441.0657\n",
      "Epoch [4/10], lter [20/79], Loss: 673.7904\n",
      "Epoch [4/10], lter [40/79], Loss: 5105.0664\n",
      "Epoch [4/10], lter [60/79], Loss: 1341.3879\n",
      "Epoch [5/10], lter [20/79], Loss: 2462.6973\n",
      "Epoch [5/10], lter [40/79], Loss: 803.0812\n",
      "Epoch [5/10], lter [60/79], Loss: 1449.7054\n",
      "Epoch [6/10], lter [20/79], Loss: 3300.7988\n",
      "Epoch [6/10], lter [40/79], Loss: 743.8008\n",
      "Epoch [6/10], lter [60/79], Loss: 2485.7949\n",
      "Epoch [7/10], lter [20/79], Loss: 538.6587\n",
      "Epoch [7/10], lter [40/79], Loss: 1405.6044\n",
      "Epoch [7/10], lter [60/79], Loss: 228.5135\n",
      "Epoch [8/10], lter [20/79], Loss: 546.1379\n",
      "Epoch [8/10], lter [40/79], Loss: 1447.5757\n",
      "Epoch [8/10], lter [60/79], Loss: 1083.9321\n",
      "Epoch [9/10], lter [20/79], Loss: 819.6778\n",
      "Epoch [9/10], lter [40/79], Loss: 328.4362\n",
      "Epoch [9/10], lter [60/79], Loss: 428.3334\n",
      "Epoch [10/10], lter [20/79], Loss: 948.8686\n",
      "Epoch [10/10], lter [40/79], Loss: 531.8403\n",
      "Epoch [10/10], lter [60/79], Loss: 1411.0283\n",
      "Learning Finished!\n"
     ]
    }
   ],
   "source": [
    "for epoch in range(num_epochs):\n",
    "    \n",
    "    total_batch = len(train_data) // batch_size\n",
    "    \n",
    "    for i, (batch_values, batch_labels) in enumerate(train_loader):\n",
    "        \n",
    "        hidden = model.init_hidden(batch_size)\n",
    "        \n",
    "        X = batch_values.view(-1, seq_len, 1).cuda()\n",
    "        Y = batch_labels.view(-1, seq_len, 1).cuda()\n",
    "        \n",
    "        pre, hidden = model(X, hidden)\n",
    "        cost = loss(pre, Y)\n",
    "        \n",
    "        optimizer.zero_grad()\n",
    "        cost.backward()\n",
    "        \n",
    "        nn.utils.clip_grad_norm_(model.parameters(), 5)\n",
    "        \n",
    "        optimizer.step()\n",
    "        \n",
    "        if (i+1) % 20 == 0:\n",
    "            print('Epoch [%d/%d], lter [%d/%d], Loss: %.4f'\n",
    "                 %(epoch+1, num_epochs, i+1, total_batch, cost.item()))\n",
    "    \n",
    "print(\"Learning Finished!\")"
   ]
  },
  {
   "cell_type": "markdown",
   "metadata": {},
   "source": [
    "## 21.5 Test Model"
   ]
  },
  {
   "cell_type": "code",
   "execution_count": 18,
   "metadata": {},
   "outputs": [],
   "source": [
    "model.eval()\n",
    "\n",
    "hidden = model.init_hidden(1)\n",
    "\n",
    "X = torch.from_numpy(test_data[0:seq_len].values).type(torch.FloatTensor).cuda().view(1, seq_len, 1)\n",
    "y, hidden = model(X, hidden)"
   ]
  },
  {
   "cell_type": "code",
   "execution_count": 19,
   "metadata": {},
   "outputs": [],
   "source": [
    "data = test_data[1:seq_len].values\n",
    "pre = y.reshape(-1)[0:-1]\n",
    "pre = pre.cpu().data.numpy()"
   ]
  },
  {
   "cell_type": "code",
   "execution_count": 20,
   "metadata": {
    "scrolled": false
   },
   "outputs": [
    {
     "data": {
      "image/png": "[encoded data removed]",
      "text/plain": [
       "<matplotlib.figure.Figure at 0x22025608b70>"
      ]
     },
     "metadata": {},
     "output_type": "display_data"
    }
   ],
   "source": [
    "plt.figure(figsize=(12, 8))\n",
    "\n",
    "plt.plot(raw_data['date'][801:801+seq_len-1], data,'o-', alpha=0.7)\n",
    "plt.plot(raw_data['date'][801:801+seq_len-1], pre, '*-', alpha=0.7)\n",
    "\n",
    "plt.title(\"Predict & Real\", fontdict={'size':15})\n",
    "\n",
    "plt.xlabel('Date', fontdict={'size':12})\n",
    "plt.xticks([])\n",
    "\n",
    "plt.ylabel('Price', fontdict={'size':12})\n",
    "\n",
    "\n",
    "plt.show()"
   ]
  }
 ],
 "metadata": {
  "kernelspec": {
   "display_name": "Python 3",
   "language": "python",
   "name": "python3"
  },
  "language_info": {
   "codemirror_mode": {
    "name": "ipython",
    "version": 3
   },
   "file_extension": ".py",
   "mimetype": "text/x-python",
   "name": "python",
   "nbconvert_exporter": "python",
   "pygments_lexer": "ipython3",
   "version": "3.6.5"
  },
  "varInspector": {
   "cols": {
    "lenName": 16,
    "lenType": 16,
    "lenVar": 40
   },
   "kernels_config": {
    "python": {
     "delete_cmd_postfix": "",
     "delete_cmd_prefix": "del ",
     "library": "var_list.py",
     "varRefreshCmd": "print(var_dic_list())"
    },
    "r": {
     "delete_cmd_postfix": ") ",
     "delete_cmd_prefix": "rm(",
     "library": "var_list.r",
     "varRefreshCmd": "cat(var_dic_list()) "
    }
   },
   "types_to_exclude": [
    "module",
    "function",
    "builtin_function_or_method",
    "instance",
    "_Feature"
   ],
   "window_display": false
  }
 },
 "nbformat": 4,
 "nbformat_minor": 2
}
