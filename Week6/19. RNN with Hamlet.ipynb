{
 "cells": [
  {
   "cell_type": "markdown",
   "metadata": {},
   "source": [
    "# 19. RNN with Hamlet"
   ]
  },
  {
   "cell_type": "code",
   "execution_count": 1,
   "metadata": {},
   "outputs": [],
   "source": [
    "import torch\n",
    "import torch.nn as nn\n",
    "\n",
    "import nltk\n",
    "\n",
    "import random\n",
    "import numpy as np"
   ]
  },
  {
   "cell_type": "markdown",
   "metadata": {},
   "source": [
    "## 19.1 Prepare Data"
   ]
  },
  {
   "cell_type": "code",
   "execution_count": 2,
   "metadata": {},
   "outputs": [
    {
     "name": "stdout",
     "output_type": "stream",
     "text": [
      "[nltk_data] Downloading package gutenberg to\n",
      "[nltk_data]     C:\\Users\\slcf\\AppData\\Roaming\\nltk_data...\n",
      "[nltk_data]   Package gutenberg is already up-to-date!\n"
     ]
    },
    {
     "data": {
      "text/plain": [
       "True"
      ]
     },
     "execution_count": 2,
     "metadata": {},
     "output_type": "execute_result"
    }
   ],
   "source": [
    "nltk.download(\"gutenberg\")"
   ]
  },
  {
   "cell_type": "code",
   "execution_count": 3,
   "metadata": {},
   "outputs": [
    {
     "name": "stdout",
     "output_type": "stream",
     "text": [
      "[The Tragedie of Hamlet by William Shakespeare 1599]\n",
      "\n",
      "\n",
      "Actus Primus. Scoena Prima.\n",
      "\n",
      "Enter Barnardo and Francisco two Centinels.\n",
      "\n",
      "  Barnardo. Who's there?\n",
      "  Fran. Nay answer me: Stand & vnfold\n",
      "your selfe\n",
      "\n",
      "   Bar. Long liue the King\n",
      "\n",
      "   Fran. Barnardo?\n",
      "  Bar. He\n",
      "\n",
      "   Fran. You come most carefully vpon your houre\n",
      "\n",
      "   Bar. 'Tis now strook twelue, get thee to bed Francisco\n",
      "\n",
      "   Fran. For this releefe much thankes: 'Tis bitter cold,\n",
      "And I am sicke at heart\n",
      "\n",
      "   Barn. Haue you had quiet Guard?\n",
      "  Fran. Not\n"
     ]
    }
   ],
   "source": [
    "raw = nltk.corpus.gutenberg.raw(\"shakespeare-hamlet.txt\")\n",
    "print(raw[:500])"
   ]
  },
  {
   "cell_type": "markdown",
   "metadata": {},
   "source": [
    "## 19.2 Char to Dic"
   ]
  },
  {
   "cell_type": "code",
   "execution_count": 4,
   "metadata": {},
   "outputs": [],
   "source": [
    "char2index = {}\n",
    "index2char = []"
   ]
  },
  {
   "cell_type": "code",
   "execution_count": 5,
   "metadata": {},
   "outputs": [],
   "source": [
    "for char in raw :\n",
    "    if char not in char2index.keys() :\n",
    "        char2index[char] = len(char2index)\n",
    "        index2char.append(char)"
   ]
  },
  {
   "cell_type": "code",
   "execution_count": 6,
   "metadata": {},
   "outputs": [
    {
     "data": {
      "text/plain": [
       "{'[': 0,\n",
       " 'T': 1,\n",
       " 'h': 2,\n",
       " 'e': 3,\n",
       " ' ': 4,\n",
       " 'r': 5,\n",
       " 'a': 6,\n",
       " 'g': 7,\n",
       " 'd': 8,\n",
       " 'i': 9,\n",
       " 'o': 10,\n",
       " 'f': 11,\n",
       " 'H': 12,\n",
       " 'm': 13,\n",
       " 'l': 14,\n",
       " 't': 15,\n",
       " 'b': 16,\n",
       " 'y': 17,\n",
       " 'W': 18,\n",
       " 'S': 19,\n",
       " 'k': 20,\n",
       " 's': 21,\n",
       " 'p': 22,\n",
       " '1': 23,\n",
       " '5': 24,\n",
       " '9': 25,\n",
       " ']': 26,\n",
       " '\\n': 27,\n",
       " 'A': 28,\n",
       " 'c': 29,\n",
       " 'u': 30,\n",
       " 'P': 31,\n",
       " '.': 32,\n",
       " 'n': 33,\n",
       " 'E': 34,\n",
       " 'B': 35,\n",
       " 'F': 36,\n",
       " 'w': 37,\n",
       " 'C': 38,\n",
       " \"'\": 39,\n",
       " '?': 40,\n",
       " 'N': 41,\n",
       " ':': 42,\n",
       " '&': 43,\n",
       " 'v': 44,\n",
       " 'L': 45,\n",
       " 'K': 46,\n",
       " 'Y': 47,\n",
       " ',': 48,\n",
       " 'I': 49,\n",
       " 'q': 50,\n",
       " 'G': 51,\n",
       " 'M': 52,\n",
       " 'R': 53,\n",
       " '-': 54,\n",
       " 'D': 55,\n",
       " 'O': 56,\n",
       " 'x': 57,\n",
       " ';': 58,\n",
       " 'Q': 59,\n",
       " 'z': 60,\n",
       " '(': 61,\n",
       " ')': 62,\n",
       " 'V': 63,\n",
       " '!': 64,\n",
       " 'j': 65,\n",
       " 'Z': 66}"
      ]
     },
     "execution_count": 6,
     "metadata": {},
     "output_type": "execute_result"
    }
   ],
   "source": [
    "char2index"
   ]
  },
  {
   "cell_type": "code",
   "execution_count": 7,
   "metadata": {
    "scrolled": true
   },
   "outputs": [
    {
     "name": "stdout",
     "output_type": "stream",
     "text": [
      "Dimension of input & output : 67\n"
     ]
    }
   ],
   "source": [
    "dim = len(char2index)\n",
    "print(\"Dimension of input & output :\", dim)"
   ]
  },
  {
   "cell_type": "code",
   "execution_count": 8,
   "metadata": {},
   "outputs": [],
   "source": [
    "char2vec = {}\n",
    "eye = np.eye(len(char2index))"
   ]
  },
  {
   "cell_type": "code",
   "execution_count": 9,
   "metadata": {},
   "outputs": [],
   "source": [
    "for item in char2index.keys() :\n",
    "    char2vec[item] = eye[char2index[item],:]"
   ]
  },
  {
   "cell_type": "code",
   "execution_count": 10,
   "metadata": {},
   "outputs": [
    {
     "data": {
      "text/plain": [
       "array([0., 0., 0., 0., 0., 0., 1., 0., 0., 0., 0., 0., 0., 0., 0., 0., 0.,\n",
       "       0., 0., 0., 0., 0., 0., 0., 0., 0., 0., 0., 0., 0., 0., 0., 0., 0.,\n",
       "       0., 0., 0., 0., 0., 0., 0., 0., 0., 0., 0., 0., 0., 0., 0., 0., 0.,\n",
       "       0., 0., 0., 0., 0., 0., 0., 0., 0., 0., 0., 0., 0., 0., 0., 0.])"
      ]
     },
     "execution_count": 10,
     "metadata": {},
     "output_type": "execute_result"
    }
   ],
   "source": [
    "char2vec['a']"
   ]
  },
  {
   "cell_type": "code",
   "execution_count": 11,
   "metadata": {},
   "outputs": [],
   "source": [
    "data = np.array([char2vec[char] for char in raw])"
   ]
  },
  {
   "cell_type": "markdown",
   "metadata": {},
   "source": [
    "## 19.3 Define Model"
   ]
  },
  {
   "cell_type": "code",
   "execution_count": 12,
   "metadata": {},
   "outputs": [],
   "source": [
    "# https://pytorch.org/docs/stable/nn.html#torch.nn.RNN"
   ]
  },
  {
   "cell_type": "code",
   "execution_count": 13,
   "metadata": {},
   "outputs": [],
   "source": [
    "# Parameters:\t\n",
    "# input_size – The number of expected features in the input x\n",
    "# hidden_size – The number of features in the hidden state h\n",
    "# num_layers – Number of recurrent layers. E.g., setting num_layers=2 would mean stacking two RNNs together to form a stacked RNN, with the second RNN taking in outputs of the first RNN and computing the final results. Default: 1\n",
    "# nonlinearity – The non-linearity to use. Can be either ‘tanh’ or ‘relu’. Default: ‘tanh’\n",
    "# bias – If False, then the layer does not use bias weights b_ih and b_hh. Default: True\n",
    "# batch_first – If True, then the input and output tensors are provided as (batch, seq, feature). Default: False\n",
    "# dropout – If non-zero, introduces a Dropout layer on the outputs of each RNN layer except the last layer, with dropout probability equal to dropout. Default: 0\n",
    "# bidirectional – If True, becomes a bidirectional RNN. Default: False"
   ]
  },
  {
   "cell_type": "code",
   "execution_count": 14,
   "metadata": {},
   "outputs": [],
   "source": [
    "class RNN(nn.Module):\n",
    "    def __init__(self, input_size, hidden_size, output_size, num_layers):\n",
    "        super(RNN, self).__init__()\n",
    "        self.input_size = input_size\n",
    "        self.hidden_size = hidden_size\n",
    "        self.output_size = output_size\n",
    "        self.num_layers = num_layers\n",
    "        \n",
    "        self.rnn = nn.RNN(input_size, hidden_size, num_layers)\n",
    "        self.fc = nn.Linear(hidden_size, output_size)\n",
    "        \n",
    "    def forward(self, input, hidden):\n",
    "        out, hidden = self.rnn(input, hidden)\n",
    "        fc_out = self.fc(out)\n",
    "        return fc_out, hidden\n",
    "\n",
    "    def init_hidden(self):\n",
    "        hidden = torch.zeros(self.num_layers, 1, self.hidden_size).cuda()\n",
    "        return hidden"
   ]
  },
  {
   "cell_type": "code",
   "execution_count": 15,
   "metadata": {},
   "outputs": [],
   "source": [
    "model = RNN(dim, 500, dim, 1).cuda()"
   ]
  },
  {
   "cell_type": "markdown",
   "metadata": {},
   "source": [
    "## 19.4 Train Model"
   ]
  },
  {
   "cell_type": "code",
   "execution_count": 16,
   "metadata": {},
   "outputs": [],
   "source": [
    "optimizer = torch.optim.Adam(model.parameters(), lr=0.001)\n",
    "loss = nn.CrossEntropyLoss()"
   ]
  },
  {
   "cell_type": "code",
   "execution_count": 17,
   "metadata": {},
   "outputs": [],
   "source": [
    "seq_len = 100\n",
    "num_epochs = 5"
   ]
  },
  {
   "cell_type": "code",
   "execution_count": 18,
   "metadata": {
    "scrolled": true
   },
   "outputs": [
    {
     "name": "stdout",
     "output_type": "stream",
     "text": [
      "Epoch [1/5], Iter [100/1627] Loss: 311.4128\n",
      "Epoch [1/5], Iter [200/1627] Loss: 296.0417\n",
      "Epoch [1/5], Iter [300/1627] Loss: 278.9083\n",
      "Epoch [1/5], Iter [400/1627] Loss: 251.1801\n",
      "Epoch [1/5], Iter [500/1627] Loss: 256.1991\n",
      "Epoch [1/5], Iter [600/1627] Loss: 222.0395\n",
      "Epoch [1/5], Iter [700/1627] Loss: 265.2386\n",
      "Epoch [1/5], Iter [800/1627] Loss: 234.5250\n",
      "Epoch [1/5], Iter [900/1627] Loss: 256.0710\n",
      "Epoch [1/5], Iter [1000/1627] Loss: 234.6147\n",
      "Epoch [1/5], Iter [1100/1627] Loss: 225.6843\n",
      "Epoch [1/5], Iter [1200/1627] Loss: 185.6684\n",
      "Epoch [1/5], Iter [1300/1627] Loss: 266.5221\n",
      "Epoch [1/5], Iter [1400/1627] Loss: 195.9697\n",
      "Epoch [1/5], Iter [1500/1627] Loss: 216.4811\n",
      "Epoch [1/5], Iter [1600/1627] Loss: 225.8608\n",
      "Epoch [2/5], Iter [100/1627] Loss: 200.4701\n",
      "Epoch [2/5], Iter [200/1627] Loss: 213.6523\n",
      "Epoch [2/5], Iter [300/1627] Loss: 190.9523\n",
      "Epoch [2/5], Iter [400/1627] Loss: 234.5387\n",
      "Epoch [2/5], Iter [500/1627] Loss: 210.9316\n",
      "Epoch [2/5], Iter [600/1627] Loss: 234.9489\n",
      "Epoch [2/5], Iter [700/1627] Loss: 223.5117\n",
      "Epoch [2/5], Iter [800/1627] Loss: 215.6347\n",
      "Epoch [2/5], Iter [900/1627] Loss: 200.5698\n",
      "Epoch [2/5], Iter [1000/1627] Loss: 213.3692\n",
      "Epoch [2/5], Iter [1100/1627] Loss: 184.8776\n",
      "Epoch [2/5], Iter [1200/1627] Loss: 220.8421\n",
      "Epoch [2/5], Iter [1300/1627] Loss: 224.2308\n",
      "Epoch [2/5], Iter [1400/1627] Loss: 229.7334\n",
      "Epoch [2/5], Iter [1500/1627] Loss: 210.0318\n",
      "Epoch [2/5], Iter [1600/1627] Loss: 201.0543\n",
      "Epoch [3/5], Iter [100/1627] Loss: 216.5995\n",
      "Epoch [3/5], Iter [200/1627] Loss: 159.3300\n",
      "Epoch [3/5], Iter [300/1627] Loss: 189.5914\n",
      "Epoch [3/5], Iter [400/1627] Loss: 189.9439\n",
      "Epoch [3/5], Iter [500/1627] Loss: 227.8903\n",
      "Epoch [3/5], Iter [600/1627] Loss: 205.9762\n",
      "Epoch [3/5], Iter [700/1627] Loss: 226.7606\n",
      "Epoch [3/5], Iter [800/1627] Loss: 225.1814\n",
      "Epoch [3/5], Iter [900/1627] Loss: 186.6449\n",
      "Epoch [3/5], Iter [1000/1627] Loss: 220.1336\n",
      "Epoch [3/5], Iter [1100/1627] Loss: 259.6072\n",
      "Epoch [3/5], Iter [1200/1627] Loss: 192.1722\n",
      "Epoch [3/5], Iter [1300/1627] Loss: 211.6080\n",
      "Epoch [3/5], Iter [1400/1627] Loss: 230.2434\n",
      "Epoch [3/5], Iter [1500/1627] Loss: 196.1328\n",
      "Epoch [3/5], Iter [1600/1627] Loss: 162.5949\n",
      "Epoch [4/5], Iter [100/1627] Loss: 198.7171\n",
      "Epoch [4/5], Iter [200/1627] Loss: 196.7174\n",
      "Epoch [4/5], Iter [300/1627] Loss: 194.4258\n",
      "Epoch [4/5], Iter [400/1627] Loss: 211.9229\n",
      "Epoch [4/5], Iter [500/1627] Loss: 191.1376\n",
      "Epoch [4/5], Iter [600/1627] Loss: 177.8161\n",
      "Epoch [4/5], Iter [700/1627] Loss: 182.8528\n",
      "Epoch [4/5], Iter [800/1627] Loss: 185.6120\n",
      "Epoch [4/5], Iter [900/1627] Loss: 182.1995\n",
      "Epoch [4/5], Iter [1000/1627] Loss: 160.6889\n",
      "Epoch [4/5], Iter [1100/1627] Loss: 191.0606\n",
      "Epoch [4/5], Iter [1200/1627] Loss: 150.8091\n",
      "Epoch [4/5], Iter [1300/1627] Loss: 177.4187\n",
      "Epoch [4/5], Iter [1400/1627] Loss: 175.7471\n",
      "Epoch [4/5], Iter [1500/1627] Loss: 179.1879\n",
      "Epoch [4/5], Iter [1600/1627] Loss: 148.6519\n",
      "Epoch [5/5], Iter [100/1627] Loss: 202.9052\n",
      "Epoch [5/5], Iter [200/1627] Loss: 214.8279\n",
      "Epoch [5/5], Iter [300/1627] Loss: 129.1975\n",
      "Epoch [5/5], Iter [400/1627] Loss: 190.7382\n",
      "Epoch [5/5], Iter [500/1627] Loss: 200.6590\n",
      "Epoch [5/5], Iter [600/1627] Loss: 162.4339\n",
      "Epoch [5/5], Iter [700/1627] Loss: 157.4620\n",
      "Epoch [5/5], Iter [800/1627] Loss: 214.3243\n",
      "Epoch [5/5], Iter [900/1627] Loss: 194.9472\n",
      "Epoch [5/5], Iter [1000/1627] Loss: 214.4648\n",
      "Epoch [5/5], Iter [1100/1627] Loss: 167.2465\n",
      "Epoch [5/5], Iter [1200/1627] Loss: 183.7751\n",
      "Epoch [5/5], Iter [1300/1627] Loss: 238.2363\n",
      "Epoch [5/5], Iter [1400/1627] Loss: 187.3761\n",
      "Epoch [5/5], Iter [1500/1627] Loss: 229.9544\n",
      "Epoch [5/5], Iter [1600/1627] Loss: 212.0493\n"
     ]
    }
   ],
   "source": [
    "for epoch in range(num_epochs):\n",
    "    \n",
    "    sp = list(range(0, len(data) - 2 * seq_len, seq_len))\n",
    "    sp = np.add(sp, random.randint(0, seq_len))\n",
    "    random.shuffle(sp)\n",
    "    \n",
    "    for i in range(len(sp)) :\n",
    "    \n",
    "        hidden = model.init_hidden()\n",
    "\n",
    "        cost = 0\n",
    "            \n",
    "        for pos in range(sp[i], sp[i] + seq_len):\n",
    "            \n",
    "            X = torch.from_numpy(data[pos]).type(torch.FloatTensor).cuda().reshape(1, 1, dim)\n",
    "            y = torch.from_numpy(data[pos+1]).cuda()\n",
    "            \n",
    "            _, y = y.max(dim=0)\n",
    "            \n",
    "            pre, hidden = model(X,hidden)\n",
    "            cost += loss(pre.reshape(1, dim), y.reshape(1).cuda())\n",
    "\n",
    "        optimizer.zero_grad()\n",
    "        cost.backward()\n",
    "        \n",
    "        nn.utils.clip_grad_norm_(model.parameters(), 5)\n",
    "        \n",
    "        optimizer.step()\n",
    "\n",
    "        if (i + 1) % 100 == 0 :\n",
    "            print('Epoch [%d/%d], Iter [%d/%d] Loss: %.4f'\n",
    "                     %(epoch+1, num_epochs, i + 1, len(sp), cost.item()))"
   ]
  },
  {
   "cell_type": "markdown",
   "metadata": {},
   "source": [
    "## 19.5 Test Model"
   ]
  },
  {
   "cell_type": "code",
   "execution_count": 19,
   "metadata": {
    "scrolled": false
   },
   "outputs": [
    {
     "name": "stdout",
     "output_type": "stream",
     "text": [
      "* Generated Text : \n",
      "\n",
      " rhe silft lakes.\n",
      "Whe will my to these, and him. My Mothue and thingses be woncust fall a diming of ment hiue to the Queene is a Pleanes\n",
      "\n",
      "   Hor. Oply he salfe him\n",
      "\n",
      "  Pos. One. I wall they hell youre is, and and the Sill my Lowde, an to haues, that sone in\n",
      "Thele to his\n",
      "Tremell ald whole hole we to bung the Gelfelles the Pallay same to and gand all then\n",
      "\n",
      "  Ham. I waule\n",
      "\n",
      "   Pal. My Loed\n",
      "\n",
      "\n",
      "  Ham. I diuest me hisse forsell haue arde that your and mere a Plesteng\n",
      "then ingiting and my Lord,\n",
      "What the Pal\n"
     ]
    }
   ],
   "source": [
    "start_num = 5\n",
    "text = index2char[start_num]\n",
    "\n",
    "model.eval()\n",
    "hidden = model.init_hidden()\n",
    "\n",
    "X_test = torch.from_numpy(data[start_num]).type(torch.FloatTensor).cuda().reshape(1, 1, dim)\n",
    "    \n",
    "for i in range(500) :\n",
    "\n",
    "    pre, hidden = model(X_test, hidden)\n",
    "\n",
    "    temp = pre.reshape(-1).cpu().data.numpy()\n",
    "\n",
    "    best_5 = np.argsort(temp)[::-1][:5]\n",
    "    \n",
    "    temp = np.exp(temp[best_5])\n",
    "    \n",
    "    temp = temp / temp.sum()\n",
    "    \n",
    "    pre = np.random.choice(best_5, 1, p = temp)[0]\n",
    "    \n",
    "    curr_char = index2char[pre]\n",
    "    \n",
    "    text += curr_char\n",
    "    \n",
    "    X_test = torch.from_numpy(char2vec[curr_char]).type(torch.FloatTensor).cuda().reshape(1, 1, dim)\n",
    "    \n",
    "print(\"* Generated Text : \\n\\n\", text)"
   ]
  }
 ],
 "metadata": {
  "kernelspec": {
   "display_name": "Python 3",
   "language": "python",
   "name": "python3"
  },
  "language_info": {
   "codemirror_mode": {
    "name": "ipython",
    "version": 3
   },
   "file_extension": ".py",
   "mimetype": "text/x-python",
   "name": "python",
   "nbconvert_exporter": "python",
   "pygments_lexer": "ipython3",
   "version": "3.6.5"
  },
  "varInspector": {
   "cols": {
    "lenName": 16,
    "lenType": 16,
    "lenVar": 40
   },
   "kernels_config": {
    "python": {
     "delete_cmd_postfix": "",
     "delete_cmd_prefix": "del ",
     "library": "var_list.py",
     "varRefreshCmd": "print(var_dic_list())"
    },
    "r": {
     "delete_cmd_postfix": ") ",
     "delete_cmd_prefix": "rm(",
     "library": "var_list.r",
     "varRefreshCmd": "cat(var_dic_list()) "
    }
   },
   "types_to_exclude": [
    "module",
    "function",
    "builtin_function_or_method",
    "instance",
    "_Feature"
   ],
   "window_display": false
  }
 },
 "nbformat": 4,
 "nbformat_minor": 2
}
