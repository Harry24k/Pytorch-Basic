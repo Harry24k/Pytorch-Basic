{
 "cells": [
  {
   "cell_type": "markdown",
   "metadata": {},
   "source": [
    "# 17. Bag of Words"
   ]
  },
  {
   "cell_type": "code",
   "execution_count": 1,
   "metadata": {},
   "outputs": [],
   "source": [
    "import torch\n",
    "import torch.nn as nn\n",
    "from torch.utils.data import DataLoader, TensorDataset\n",
    "\n",
    "from sklearn.model_selection import train_test_split\n",
    "from sklearn.feature_extraction.text import CountVectorizer\n",
    "# from sklearn.feature_extraction.text import TfidfVectorizer\n",
    "\n",
    "from konlpy.tag import Okt\n",
    "\n",
    "import random\n",
    "import codecs\n",
    "import pandas as pd\n",
    "import numpy as np"
   ]
  },
  {
   "cell_type": "code",
   "execution_count": 2,
   "metadata": {},
   "outputs": [],
   "source": [
    "import matplotlib.pyplot as plt\n",
    "%matplotlib inline"
   ]
  },
  {
   "cell_type": "markdown",
   "metadata": {},
   "source": [
    "## 17.1 Prepare Data"
   ]
  },
  {
   "cell_type": "code",
   "execution_count": 3,
   "metadata": {},
   "outputs": [
    {
     "data": {
      "text/plain": [
       "'# G마켓에 좋은 평만 있어서 사봤는데.. 정말 진짜 진짜 사지마세요. 개. 쓰. 레. 기 (진심) 입니다. 액정부터 짜증나는 TN패널에, 하드 SSD인걸로 알았는데, 속도는 저질 SD카드 꽂아 놓은것 같습니다. 정말 느려터집니다. 저는 단지 인터넷 뱅킹만 할려고, 샀단 말입니다. 그런데 인터넷 뱅킹 프로그램까는데만 10~20분 걸립니다. 뭐약!! 이게!! 분노로 인해 볼때마다 짜증납니다. 밤에 잠도 안오고요.. 사시면 분명 후회하실겁니다. 아! 진짜 G마켓 프리미엄평으로 실날하게 사진찍어서 올리려고했는데, 먹고 산다고 바빠서 프리미엄 평 못 올린게 정말 천추의 한이네요!!\\n# 원래 그런 줄 알고 사는 \"저가 제품\"이라고 생각합니다만. IPS라는 언급이 없으니 당연히 TN 패널일 테고, EMMC는 SSD가 아니고 SD 카드 내장된 것 같은 것이라 원래 SSD보다 느린 것이고, CPU도 아톰이니 뭐 당연히 느리죠. 그런 것 다 감안하고 \"싸고 가볍다\"는 조건으로 사는 제품인데요. 뭐 '"
      ]
     },
     "execution_count": 3,
     "metadata": {},
     "output_type": "execute_result"
    }
   ],
   "source": [
    "f = codecs.open(\"data/reviews.txt\", 'r', 'utf-8')\n",
    "f.read()[:500]"
   ]
  },
  {
   "cell_type": "markdown",
   "metadata": {},
   "source": [
    "## 17.2 Extract Setences"
   ]
  },
  {
   "cell_type": "code",
   "execution_count": 4,
   "metadata": {},
   "outputs": [],
   "source": [
    "keywords = [\"발열\", \"소음\"]\n",
    "\n",
    "for keyword in keywords :\n",
    "    temp_list = []\n",
    "    save_name = \"data/reviews_\" + keyword + \".txt\"\n",
    "    f = codecs.open(\"data/reviews.txt\", 'r', 'utf-8')\n",
    "    t = codecs.open(save_name, 'w', 'utf-8')\n",
    "    \n",
    "    while True:\n",
    "        line = f.readline()\n",
    "        if not line: break\n",
    "        if keyword in line :\n",
    "            temp_list.append(line)\n",
    "            \n",
    "    set_list = list(set(temp_list))\n",
    "    \n",
    "    for item in set_list :\n",
    "        t.write(item)\n",
    "        \n",
    "    f.close()\n",
    "    t.close()"
   ]
  },
  {
   "cell_type": "code",
   "execution_count": 5,
   "metadata": {},
   "outputs": [
    {
     "data": {
      "text/plain": [
       "'# 화면이 작을까봐 14인치랑 굉장히 고민 많이했는데... 제 선택이 맞았네요.저는 매일 가지고 다녀야 해서 휴대성을 가장 크게 보고 골랐는데요.화면도 고민했던 것 처럼 작지 않고 좋습니다!!무게는 말할 것도 없이 정말 가볍고 얇아요~!! 디자인, 휴대성... 뭐 하나 빠지는 게 없네요. 윈도우도 깔려 있어서 더 좋습니다^^ 발열도 심하지 않고, 자판도 편해요.다만 숫자키가 옆에 없어서 아쉽지만, 작은 사이즈는 어쩔 수 없으니까요~암튼 완전 만족입니당~^^\\n# 여기 이삼성노트북 첫번째는 동생한테가게되서, 삼성노트북 두번째 구입하게 되었고, 현재저렴하면서 작은거 웬만큼 쓸만한거 삼성 엘지(텝북은너무비싸구)제품 중에는 이삼성노트북밖에없습니다더욱이 브라스웰제품 중에는 유일하죠 (4GB128GB) , 자정리하자면 화면 야외서보는데지장없고, 인터넷동영상하는데 지장없고사운드좋구요, 소음이없고 오랜시간써도 발열이거의없기에 도서관 자료검색 인강용으로 가성비최고가 아닐까 하는 생각이 듭니다.물론 돈'"
      ]
     },
     "execution_count": 5,
     "metadata": {},
     "output_type": "execute_result"
    }
   ],
   "source": [
    "f = codecs.open(\"data/reviews_발열.txt\", 'r', 'utf-8')\n",
    "f.read()[:500]"
   ]
  },
  {
   "cell_type": "markdown",
   "metadata": {},
   "source": [
    "## 17.3 Load Scored Data"
   ]
  },
  {
   "cell_type": "code",
   "execution_count": 6,
   "metadata": {},
   "outputs": [],
   "source": [
    "filename = \"data/score_발열.xlsx\"\n",
    "sheet_name = \"Sheet1\"\n",
    "data = pd.read_excel(filename, sheet_name = sheet_name, header = 0)\n",
    "\n",
    "csv_data = [item.replace(\"#\", \"\").strip() for item in data['Review']]\n",
    "csv_label = data['Score']"
   ]
  },
  {
   "cell_type": "code",
   "execution_count": 7,
   "metadata": {},
   "outputs": [
    {
     "data": {
      "text/plain": [
       "['발열히 심한거 같은데 여름이라 그런가?..',\n",
       " '발열이좀 심한거 같아서 걱정이에요',\n",
       " '발열이심하더라구요',\n",
       " '발열이너무심한게 제일큰 단점인것 같고 그외에 불편한점은',\n",
       " '발열이...정말...심합니다']"
      ]
     },
     "execution_count": 7,
     "metadata": {},
     "output_type": "execute_result"
    }
   ],
   "source": [
    "csv_data[:5]"
   ]
  },
  {
   "cell_type": "code",
   "execution_count": 8,
   "metadata": {},
   "outputs": [
    {
     "data": {
      "image/png": "[encoded data removed]",
      "text/plain": [
       "<Figure size 432x288 with 1 Axes>"
      ]
     },
     "metadata": {},
     "output_type": "display_data"
    }
   ],
   "source": [
    "scores = [sum(csv_label == 0), sum(csv_label == 1), sum(csv_label == 2)]\n",
    "plt.bar(range(len(scores)),scores, color=\"#ff5733\")\n",
    "\n",
    "plt.title(\"Average Laptop's Score of Heat\")\n",
    "plt.xlabel(\"Heat Score\")\n",
    "plt.ylabel(\"Reviews\")\n",
    "\n",
    "plt.show()"
   ]
  },
  {
   "cell_type": "markdown",
   "metadata": {},
   "source": [
    "## 17.4 Bag of Words"
   ]
  },
  {
   "cell_type": "code",
   "execution_count": 9,
   "metadata": {},
   "outputs": [
    {
     "name": "stderr",
     "output_type": "stream",
     "text": [
      "/home/ubuntu/anaconda3/envs/pytorch_p36/lib/python3.6/site-packages/jpype/_core.py:210: UserWarning: \n",
      "-------------------------------------------------------------------------------\n",
      "Deprecated: convertStrings was not specified when starting the JVM. The default\n",
      "behavior in JPype will be False starting in JPype 0.8. The recommended setting\n",
      "for new code is convertStrings=False.  The legacy value of True was assumed for\n",
      "this session. If you are a user of an application that reported this warning,\n",
      "please file a ticket with the developer.\n",
      "-------------------------------------------------------------------------------\n",
      "\n",
      "  \"\"\")\n"
     ]
    }
   ],
   "source": [
    "tokenizer = Okt()\n",
    "doc = []\n",
    "\n",
    "for sentence in csv_data :\n",
    "    results= []\n",
    "    tokens = tokenizer.pos(sentence, norm=True, stem=True)\n",
    "        \n",
    "    for token in tokens:\n",
    "        if not token[1] in [\"Josa\", \"Eomi\", \"Punctuation\"]:\n",
    "            results.append(token[0])\n",
    "    doc.append(\" \".join(results).strip())"
   ]
  },
  {
   "cell_type": "code",
   "execution_count": 10,
   "metadata": {},
   "outputs": [
    {
     "data": {
      "text/plain": [
       "['발열 히 심하다 같다 여름 그 런가',\n",
       " '발열 이 좀 심하다 같다 걱정',\n",
       " '발열 심하다',\n",
       " '발열 이 너 무심하다 제일 크다 단점 것 같다 그 외 불편하다 점',\n",
       " '발열 정말 심하다']"
      ]
     },
     "execution_count": 10,
     "metadata": {},
     "output_type": "execute_result"
    }
   ],
   "source": [
    "doc[:5]"
   ]
  },
  {
   "cell_type": "code",
   "execution_count": 11,
   "metadata": {},
   "outputs": [],
   "source": [
    "# CountVectorizer\n",
    "cnv = CountVectorizer(ngram_range=(1,1), min_df = 3)\n",
    "\n",
    "data = cnv.fit_transform(doc).toarray()\n",
    "label = csv_label.values"
   ]
  },
  {
   "cell_type": "code",
   "execution_count": 12,
   "metadata": {},
   "outputs": [],
   "source": [
    "# TF-IDF Vectorizer\n",
    "# tfidv = TfidfVectorizer().fit(data)\n",
    "# data = tfidv.transform(data).toarray()\n",
    "\n",
    "# data = pd.DataFrame(data)\n",
    "# data = (data - data.mean()) / (data.max() - data.min() + 1)"
   ]
  },
  {
   "cell_type": "code",
   "execution_count": 13,
   "metadata": {},
   "outputs": [
    {
     "data": {
      "text/plain": [
       "{'발열': 112,\n",
       " '심하다': 156,\n",
       " '같다': 13,\n",
       " '여름': 187,\n",
       " '걱정': 16,\n",
       " '무심하다': 104,\n",
       " '크다': 266,\n",
       " '단점': 57,\n",
       " '불편하다': 125,\n",
       " '정말': 237,\n",
       " '확실하다': 292,\n",
       " '심해': 157,\n",
       " '노트북': 45,\n",
       " '쿨러': 263,\n",
       " '사용': 134,\n",
       " '크게': 265,\n",
       " '진짜': 250,\n",
       " '너무': 43,\n",
       " '많이': 93,\n",
       " '있다': 218,\n",
       " '장시간': 228,\n",
       " '높다': 47,\n",
       " '프로그램': 275,\n",
       " '한편': 283,\n",
       " '이다': 204,\n",
       " '심다': 155,\n",
       " '밧데리': 113,\n",
       " 'cpu': 4,\n",
       " '용량': 200,\n",
       " '빼다': 131,\n",
       " '괜찮다': 22,\n",
       " '느낌': 50,\n",
       " '하지만': 281,\n",
       " '자판': 221,\n",
       " '조금': 241,\n",
       " '속도': 149,\n",
       " '매우': 94,\n",
       " '좋다': 244,\n",
       " '이전': 211,\n",
       " '하다': 279,\n",
       " '뜨겁다': 83,\n",
       " '가볍다': 10,\n",
       " '조용하다': 242,\n",
       " '마음': 88,\n",
       " '듭니': 72,\n",
       " '돌아가다': 65,\n",
       " '불량': 124,\n",
       " '심해지다': 158,\n",
       " '생기다': 141,\n",
       " '소리': 147,\n",
       " '나다': 38,\n",
       " '그렇다': 31,\n",
       " '부분': 122,\n",
       " '문제': 107,\n",
       " '끊기다': 37,\n",
       " '쓰다': 160,\n",
       " '약간': 175,\n",
       " '게임': 18,\n",
       " '돌리다': 64,\n",
       " '정도': 236,\n",
       " '성능': 145,\n",
       " '라면': 85,\n",
       " '지다': 249,\n",
       " '이렇다': 206,\n",
       " '부팅': 123,\n",
       " '화상': 289,\n",
       " '원래': 202,\n",
       " '모르다': 100,\n",
       " '않다': 171,\n",
       " '구매': 24,\n",
       " '신분': 154,\n",
       " '야하다': 174,\n",
       " '제외': 239,\n",
       " '자주': 220,\n",
       " '발생': 111,\n",
       " '삼성': 137,\n",
       " '소음': 148,\n",
       " '치다': 259,\n",
       " '만족하다': 91,\n",
       " '배터리': 116,\n",
       " '빠르다': 128,\n",
       " '무엇': 105,\n",
       " '생각': 140,\n",
       " '하드': 280,\n",
       " '보드': 119,\n",
       " '왼쪽': 199,\n",
       " '상당하다': 138,\n",
       " '살짝': 136,\n",
       " '메탈': 95,\n",
       " '비다': 126,\n",
       " '비추다': 127,\n",
       " '휴대': 294,\n",
       " '다니다': 54,\n",
       " '많다': 92,\n",
       " '느리다': 51,\n",
       " '다른': 55,\n",
       " '제품': 240,\n",
       " '시간': 152,\n",
       " '센터': 146,\n",
       " '늘다': 52,\n",
       " '이제': 213,\n",
       " '조절': 243,\n",
       " '약하다': 176,\n",
       " '어쩔': 182,\n",
       " '전혀': 233,\n",
       " '잡지': 226,\n",
       " '해보다': 284,\n",
       " '편이': 271,\n",
       " '되다': 67,\n",
       " '화이트': 290,\n",
       " '다소': 56,\n",
       " '느껴지다': 48,\n",
       " '하나': 277,\n",
       " '따르다': 77,\n",
       " '내다': 42,\n",
       " '사양': 133,\n",
       " '낮다': 41,\n",
       " '양호': 178,\n",
       " '상태': 139,\n",
       " '차이': 253,\n",
       " '보다': 118,\n",
       " '수가': 150,\n",
       " '없다': 185,\n",
       " '인하다': 215,\n",
       " '지금': 248,\n",
       " '어떻다': 181,\n",
       " '또한': 81,\n",
       " '가격': 8,\n",
       " '때문': 79,\n",
       " '켜다': 262,\n",
       " '충전': 258,\n",
       " '능력': 53,\n",
       " '떨어지다': 80,\n",
       " '오래되다': 194,\n",
       " '자다': 219,\n",
       " '관리': 21,\n",
       " '돼다': 66,\n",
       " '걸리다': 17,\n",
       " '아니다': 163,\n",
       " '안되다': 169,\n",
       " '그냥': 26,\n",
       " '받침': 110,\n",
       " '절대': 234,\n",
       " '보이다': 120,\n",
       " '고민': 20,\n",
       " '빠지다': 130,\n",
       " '모두': 98,\n",
       " '한성': 282,\n",
       " '구성': 25,\n",
       " 'as': 3,\n",
       " '굉장하다': 23,\n",
       " '깔끔하다': 36,\n",
       " '이쁘다': 208,\n",
       " '모델': 97,\n",
       " '현상': 286,\n",
       " '50': 1,\n",
       " '준수': 246,\n",
       " '처리': 254,\n",
       " '잡다': 225,\n",
       " '얇다': 177,\n",
       " '오래': 193,\n",
       " '쓸다': 162,\n",
       " '일이': 217,\n",
       " '인터넷': 214,\n",
       " '100': 0,\n",
       " '그래픽': 28,\n",
       " '장점': 229,\n",
       " '훨씬': 293,\n",
       " '해소': 285,\n",
       " '패드': 269,\n",
       " '일어나서': 216,\n",
       " '쿨링': 264,\n",
       " '이상': 209,\n",
       " '기본': 35,\n",
       " '서비스': 142,\n",
       " '들다': 71,\n",
       " '사은': 135,\n",
       " '주다': 245,\n",
       " '어느': 180,\n",
       " '문서': 106,\n",
       " '작업': 223,\n",
       " '편입': 272,\n",
       " '아주': 166,\n",
       " '컴퓨터': 261,\n",
       " '배송': 115,\n",
       " '이정': 212,\n",
       " '무게': 102,\n",
       " '그램': 29,\n",
       " '두다': 69,\n",
       " '온도': 195,\n",
       " '아쉽다': 164,\n",
       " '그래도': 27,\n",
       " '예쁘다': 191,\n",
       " '따다': 75,\n",
       " '안나': 168,\n",
       " '디자인': 74,\n",
       " '가다': 9,\n",
       " '편하다': 273,\n",
       " '겨울': 19,\n",
       " '이면': 207,\n",
       " '나쁘다': 39,\n",
       " '필요': 276,\n",
       " '받다': 109,\n",
       " '액정': 173,\n",
       " '돌다': 63,\n",
       " '아예': 165,\n",
       " '레노버': 86,\n",
       " '처음': 255,\n",
       " '써다': 159,\n",
       " '얘기': 179,\n",
       " '느끼다': 49,\n",
       " '나오다': 40,\n",
       " '등등': 73,\n",
       " '데스크탑': 62,\n",
       " '연결': 189,\n",
       " '아직': 167,\n",
       " '수준': 151,\n",
       " '뜨다': 84,\n",
       " '사다': 132,\n",
       " '설치': 144,\n",
       " '평소': 274,\n",
       " '70': 2,\n",
       " '신경': 153,\n",
       " '쓰이다': 161,\n",
       " '노트': 44,\n",
       " '따뜻하다': 76,\n",
       " '최고': 256,\n",
       " 'ssd': 6,\n",
       " '카드': 260,\n",
       " '마감': 87,\n",
       " '없이': 186,\n",
       " '윈도우': 203,\n",
       " '보통': 121,\n",
       " '펴다': 270,\n",
       " '감다': 12,\n",
       " '별로': 117,\n",
       " '화면': 288,\n",
       " 'ㅜㅜ': 7,\n",
       " '엄청': 183,\n",
       " '개선': 14,\n",
       " '차다': 252,\n",
       " '완벽하다': 196,\n",
       " '열량': 190,\n",
       " '빠릿빠릿': 129,\n",
       " '그렇게': 30,\n",
       " '기능': 33,\n",
       " '오다': 192,\n",
       " '모니터': 96,\n",
       " '적당하다': 232,\n",
       " '던지다': 61,\n",
       " '거의': 15,\n",
       " '무겁다': 101,\n",
       " '추천': 257,\n",
       " '만족': 89,\n",
       " '그리다': 32,\n",
       " '대다': 58,\n",
       " '대비': 60,\n",
       " '딱하다': 78,\n",
       " '뒤틀리다': 70,\n",
       " '짧다': 251,\n",
       " '모든': 99,\n",
       " '제어': 238,\n",
       " '완전': 197,\n",
       " '기다': 34,\n",
       " '알다': 172,\n",
       " '가성': 11,\n",
       " '잡히다': 227,\n",
       " '우수하다': 201,\n",
       " '증상': 247,\n",
       " '뛰어나다': 82,\n",
       " '되어다': 68,\n",
       " '적다': 231,\n",
       " '선택': 143,\n",
       " '만족스럽다': 90,\n",
       " '현재': 287,\n",
       " '화질': 291,\n",
       " '특히': 267,\n",
       " '하니': 278,\n",
       " '이렇게': 205,\n",
       " '놀라다': 46,\n",
       " '점수': 235,\n",
       " '물론': 108,\n",
       " '무리': 103,\n",
       " '외관': 198,\n",
       " '대단하다': 59,\n",
       " '역시': 188,\n",
       " '작다': 222,\n",
       " '저렴하다': 230,\n",
       " '잡고': 224,\n",
       " '엄청나다': 184,\n",
       " 'ips': 5,\n",
       " '패널': 268,\n",
       " '안심': 170,\n",
       " '배그': 114,\n",
       " '이슈': 210}"
      ]
     },
     "execution_count": 13,
     "metadata": {},
     "output_type": "execute_result"
    }
   ],
   "source": [
    "cnv.vocabulary_"
   ]
  },
  {
   "cell_type": "markdown",
   "metadata": {},
   "source": [
    "## 17.5 Train-Test Split"
   ]
  },
  {
   "cell_type": "code",
   "execution_count": 14,
   "metadata": {},
   "outputs": [],
   "source": [
    "dim = len(cnv.vocabulary_)"
   ]
  },
  {
   "cell_type": "code",
   "execution_count": 15,
   "metadata": {},
   "outputs": [
    {
     "name": "stdout",
     "output_type": "stream",
     "text": [
      "908\n",
      "303\n"
     ]
    }
   ],
   "source": [
    "train_data, test_data, train_label, test_label = train_test_split(data, label, stratify = label)\n",
    "\n",
    "print(len(train_data))\n",
    "print(len(test_data))"
   ]
  },
  {
   "cell_type": "code",
   "execution_count": 16,
   "metadata": {},
   "outputs": [],
   "source": [
    "x = torch.from_numpy(train_data).type(torch.FloatTensor)\n",
    "y = torch.from_numpy(train_label).type(torch.LongTensor)"
   ]
  },
  {
   "cell_type": "code",
   "execution_count": 17,
   "metadata": {},
   "outputs": [
    {
     "data": {
      "text/plain": [
       "(torch.Size([908]), torch.Size([908, 295]))"
      ]
     },
     "execution_count": 17,
     "metadata": {},
     "output_type": "execute_result"
    }
   ],
   "source": [
    "y.size() , x.size()"
   ]
  },
  {
   "cell_type": "code",
   "execution_count": 18,
   "metadata": {},
   "outputs": [],
   "source": [
    "train_data = TensorDataset(x, y)\n",
    "\n",
    "batch_size = 10\n",
    "\n",
    "train_loader  = DataLoader(dataset=train_data,\n",
    "                           batch_size=batch_size,\n",
    "                           shuffle=True,\n",
    "                           num_workers=1,\n",
    "                           drop_last = True)"
   ]
  },
  {
   "cell_type": "markdown",
   "metadata": {},
   "source": [
    "## 17.6 Define and Train Model"
   ]
  },
  {
   "cell_type": "code",
   "execution_count": 19,
   "metadata": {},
   "outputs": [],
   "source": [
    "linear1 = nn.Linear(dim, 200, bias = True)\n",
    "linear2 = nn.Linear(200, 3, bias = True)\n",
    "relu = nn.ReLU()\n",
    "\n",
    "model = nn.Sequential(linear1, relu, linear2)"
   ]
  },
  {
   "cell_type": "code",
   "execution_count": 20,
   "metadata": {},
   "outputs": [],
   "source": [
    "loss = torch.nn.CrossEntropyLoss()\n",
    "optimizer = torch.optim.Adam(model.parameters(), lr=0.001)"
   ]
  },
  {
   "cell_type": "code",
   "execution_count": 21,
   "metadata": {},
   "outputs": [],
   "source": [
    "num_epochs = 50"
   ]
  },
  {
   "cell_type": "code",
   "execution_count": 22,
   "metadata": {
    "scrolled": true
   },
   "outputs": [
    {
     "name": "stdout",
     "output_type": "stream",
     "text": [
      "Epoch [1/50], lter [20/90], Loss: 0.9148\n",
      "Epoch [1/50], lter [40/90], Loss: 0.8863\n",
      "Epoch [1/50], lter [60/90], Loss: 0.6495\n",
      "Epoch [1/50], lter [80/90], Loss: 0.7840\n",
      "Epoch [2/50], lter [20/90], Loss: 0.4797\n",
      "Epoch [2/50], lter [40/90], Loss: 0.6357\n",
      "Epoch [2/50], lter [60/90], Loss: 0.6474\n",
      "Epoch [2/50], lter [80/90], Loss: 1.0916\n",
      "Epoch [3/50], lter [20/90], Loss: 0.9933\n",
      "Epoch [3/50], lter [40/90], Loss: 0.7154\n",
      "Epoch [3/50], lter [60/90], Loss: 0.3200\n",
      "Epoch [3/50], lter [80/90], Loss: 0.4253\n",
      "Epoch [4/50], lter [20/90], Loss: 0.0941\n",
      "Epoch [4/50], lter [40/90], Loss: 0.2851\n",
      "Epoch [4/50], lter [60/90], Loss: 0.1472\n",
      "Epoch [4/50], lter [80/90], Loss: 0.3241\n",
      "Epoch [5/50], lter [20/90], Loss: 0.2410\n",
      "Epoch [5/50], lter [40/90], Loss: 0.2816\n",
      "Epoch [5/50], lter [60/90], Loss: 0.8152\n",
      "Epoch [5/50], lter [80/90], Loss: 0.3003\n",
      "Epoch [6/50], lter [20/90], Loss: 0.0499\n",
      "Epoch [6/50], lter [40/90], Loss: 0.2037\n",
      "Epoch [6/50], lter [60/90], Loss: 0.0628\n",
      "Epoch [6/50], lter [80/90], Loss: 0.3265\n",
      "Epoch [7/50], lter [20/90], Loss: 0.0612\n",
      "Epoch [7/50], lter [40/90], Loss: 0.1108\n",
      "Epoch [7/50], lter [60/90], Loss: 0.0852\n",
      "Epoch [7/50], lter [80/90], Loss: 0.1465\n",
      "Epoch [8/50], lter [20/90], Loss: 0.2063\n",
      "Epoch [8/50], lter [40/90], Loss: 0.3437\n",
      "Epoch [8/50], lter [60/90], Loss: 0.1623\n",
      "Epoch [8/50], lter [80/90], Loss: 0.0930\n",
      "Epoch [9/50], lter [20/90], Loss: 0.1620\n",
      "Epoch [9/50], lter [40/90], Loss: 0.1877\n",
      "Epoch [9/50], lter [60/90], Loss: 0.0676\n",
      "Epoch [9/50], lter [80/90], Loss: 0.3909\n",
      "Epoch [10/50], lter [20/90], Loss: 0.1074\n",
      "Epoch [10/50], lter [40/90], Loss: 0.0440\n",
      "Epoch [10/50], lter [60/90], Loss: 0.1278\n",
      "Epoch [10/50], lter [80/90], Loss: 0.0604\n",
      "Epoch [11/50], lter [20/90], Loss: 0.0114\n",
      "Epoch [11/50], lter [40/90], Loss: 0.0381\n",
      "Epoch [11/50], lter [60/90], Loss: 0.1372\n",
      "Epoch [11/50], lter [80/90], Loss: 0.1865\n",
      "Epoch [12/50], lter [20/90], Loss: 0.4934\n",
      "Epoch [12/50], lter [40/90], Loss: 0.0633\n",
      "Epoch [12/50], lter [60/90], Loss: 0.0698\n",
      "Epoch [12/50], lter [80/90], Loss: 0.2978\n",
      "Epoch [13/50], lter [20/90], Loss: 0.0096\n",
      "Epoch [13/50], lter [40/90], Loss: 0.3494\n",
      "Epoch [13/50], lter [60/90], Loss: 0.0986\n",
      "Epoch [13/50], lter [80/90], Loss: 0.0829\n",
      "Epoch [14/50], lter [20/90], Loss: 0.0251\n",
      "Epoch [14/50], lter [40/90], Loss: 0.0316\n",
      "Epoch [14/50], lter [60/90], Loss: 0.0073\n",
      "Epoch [14/50], lter [80/90], Loss: 0.0194\n",
      "Epoch [15/50], lter [20/90], Loss: 0.0159\n",
      "Epoch [15/50], lter [40/90], Loss: 0.1158\n",
      "Epoch [15/50], lter [60/90], Loss: 0.1602\n",
      "Epoch [15/50], lter [80/90], Loss: 0.0908\n",
      "Epoch [16/50], lter [20/90], Loss: 0.0658\n",
      "Epoch [16/50], lter [40/90], Loss: 0.1534\n",
      "Epoch [16/50], lter [60/90], Loss: 0.0828\n",
      "Epoch [16/50], lter [80/90], Loss: 0.0741\n",
      "Epoch [17/50], lter [20/90], Loss: 0.1293\n",
      "Epoch [17/50], lter [40/90], Loss: 0.1893\n",
      "Epoch [17/50], lter [60/90], Loss: 0.0224\n",
      "Epoch [17/50], lter [80/90], Loss: 0.0064\n",
      "Epoch [18/50], lter [20/90], Loss: 0.0400\n",
      "Epoch [18/50], lter [40/90], Loss: 0.0111\n",
      "Epoch [18/50], lter [60/90], Loss: 0.1485\n",
      "Epoch [18/50], lter [80/90], Loss: 0.0042\n",
      "Epoch [19/50], lter [20/90], Loss: 0.0124\n",
      "Epoch [19/50], lter [40/90], Loss: 0.1111\n",
      "Epoch [19/50], lter [60/90], Loss: 0.1447\n",
      "Epoch [19/50], lter [80/90], Loss: 0.0242\n",
      "Epoch [20/50], lter [20/90], Loss: 0.2589\n",
      "Epoch [20/50], lter [40/90], Loss: 0.0802\n",
      "Epoch [20/50], lter [60/90], Loss: 0.0129\n",
      "Epoch [20/50], lter [80/90], Loss: 0.0800\n",
      "Epoch [21/50], lter [20/90], Loss: 0.1475\n",
      "Epoch [21/50], lter [40/90], Loss: 0.1007\n",
      "Epoch [21/50], lter [60/90], Loss: 0.0536\n",
      "Epoch [21/50], lter [80/90], Loss: 0.0559\n",
      "Epoch [22/50], lter [20/90], Loss: 0.0267\n",
      "Epoch [22/50], lter [40/90], Loss: 0.0038\n",
      "Epoch [22/50], lter [60/90], Loss: 0.0584\n",
      "Epoch [22/50], lter [80/90], Loss: 0.1046\n",
      "Epoch [23/50], lter [20/90], Loss: 0.1718\n",
      "Epoch [23/50], lter [40/90], Loss: 0.1051\n",
      "Epoch [23/50], lter [60/90], Loss: 0.1192\n",
      "Epoch [23/50], lter [80/90], Loss: 0.1237\n",
      "Epoch [24/50], lter [20/90], Loss: 0.0197\n",
      "Epoch [24/50], lter [40/90], Loss: 0.0038\n",
      "Epoch [24/50], lter [60/90], Loss: 0.1014\n",
      "Epoch [24/50], lter [80/90], Loss: 0.0112\n",
      "Epoch [25/50], lter [20/90], Loss: 0.0169\n",
      "Epoch [25/50], lter [40/90], Loss: 0.0931\n",
      "Epoch [25/50], lter [60/90], Loss: 0.0580\n",
      "Epoch [25/50], lter [80/90], Loss: 0.1538\n",
      "Epoch [26/50], lter [20/90], Loss: 0.0060\n",
      "Epoch [26/50], lter [40/90], Loss: 0.2709\n",
      "Epoch [26/50], lter [60/90], Loss: 0.0934\n",
      "Epoch [26/50], lter [80/90], Loss: 0.0215\n",
      "Epoch [27/50], lter [20/90], Loss: 0.0890\n",
      "Epoch [27/50], lter [40/90], Loss: 0.1019\n",
      "Epoch [27/50], lter [60/90], Loss: 0.1777\n",
      "Epoch [27/50], lter [80/90], Loss: 0.0056\n",
      "Epoch [28/50], lter [20/90], Loss: 0.2573\n",
      "Epoch [28/50], lter [40/90], Loss: 0.0184\n",
      "Epoch [28/50], lter [60/90], Loss: 0.0113\n",
      "Epoch [28/50], lter [80/90], Loss: 0.0377\n",
      "Epoch [29/50], lter [20/90], Loss: 0.0006\n",
      "Epoch [29/50], lter [40/90], Loss: 0.0074\n",
      "Epoch [29/50], lter [60/90], Loss: 0.0746\n",
      "Epoch [29/50], lter [80/90], Loss: 0.0066\n",
      "Epoch [30/50], lter [20/90], Loss: 0.2691\n",
      "Epoch [30/50], lter [40/90], Loss: 0.0168\n",
      "Epoch [30/50], lter [60/90], Loss: 0.1554\n",
      "Epoch [30/50], lter [80/90], Loss: 0.1359\n",
      "Epoch [31/50], lter [20/90], Loss: 0.0222\n",
      "Epoch [31/50], lter [40/90], Loss: 0.0092\n",
      "Epoch [31/50], lter [60/90], Loss: 0.0077\n",
      "Epoch [31/50], lter [80/90], Loss: 0.1155\n",
      "Epoch [32/50], lter [20/90], Loss: 0.0508\n",
      "Epoch [32/50], lter [40/90], Loss: 0.0024\n",
      "Epoch [32/50], lter [60/90], Loss: 0.0016\n",
      "Epoch [32/50], lter [80/90], Loss: 0.0057\n",
      "Epoch [33/50], lter [20/90], Loss: 0.0050\n",
      "Epoch [33/50], lter [40/90], Loss: 0.0156\n",
      "Epoch [33/50], lter [60/90], Loss: 0.1360\n",
      "Epoch [33/50], lter [80/90], Loss: 0.0031\n",
      "Epoch [34/50], lter [20/90], Loss: 0.0056\n",
      "Epoch [34/50], lter [40/90], Loss: 0.0724\n",
      "Epoch [34/50], lter [60/90], Loss: 0.1874\n",
      "Epoch [34/50], lter [80/90], Loss: 0.0226\n",
      "Epoch [35/50], lter [20/90], Loss: 0.0649\n",
      "Epoch [35/50], lter [40/90], Loss: 0.0995\n",
      "Epoch [35/50], lter [60/90], Loss: 0.0011\n",
      "Epoch [35/50], lter [80/90], Loss: 0.0750\n",
      "Epoch [36/50], lter [20/90], Loss: 0.0057\n",
      "Epoch [36/50], lter [40/90], Loss: 0.0436\n",
      "Epoch [36/50], lter [60/90], Loss: 0.1532\n",
      "Epoch [36/50], lter [80/90], Loss: 0.0089\n",
      "Epoch [37/50], lter [20/90], Loss: 0.0410\n",
      "Epoch [37/50], lter [40/90], Loss: 0.2237\n",
      "Epoch [37/50], lter [60/90], Loss: 0.0665\n",
      "Epoch [37/50], lter [80/90], Loss: 0.0647\n",
      "Epoch [38/50], lter [20/90], Loss: 0.0021\n",
      "Epoch [38/50], lter [40/90], Loss: 0.0146\n",
      "Epoch [38/50], lter [60/90], Loss: 0.0110\n",
      "Epoch [38/50], lter [80/90], Loss: 0.0060\n",
      "Epoch [39/50], lter [20/90], Loss: 0.1571\n",
      "Epoch [39/50], lter [40/90], Loss: 0.0611\n",
      "Epoch [39/50], lter [60/90], Loss: 0.0053\n",
      "Epoch [39/50], lter [80/90], Loss: 0.2249\n",
      "Epoch [40/50], lter [20/90], Loss: 0.0029\n",
      "Epoch [40/50], lter [40/90], Loss: 0.0017\n",
      "Epoch [40/50], lter [60/90], Loss: 0.0047\n",
      "Epoch [40/50], lter [80/90], Loss: 0.0063\n",
      "Epoch [41/50], lter [20/90], Loss: 0.2036\n",
      "Epoch [41/50], lter [40/90], Loss: 0.0061\n",
      "Epoch [41/50], lter [60/90], Loss: 0.0183\n",
      "Epoch [41/50], lter [80/90], Loss: 0.0012\n",
      "Epoch [42/50], lter [20/90], Loss: 0.1074\n",
      "Epoch [42/50], lter [40/90], Loss: 0.0030\n",
      "Epoch [42/50], lter [60/90], Loss: 0.0007\n",
      "Epoch [42/50], lter [80/90], Loss: 0.1723\n",
      "Epoch [43/50], lter [20/90], Loss: 0.0024\n",
      "Epoch [43/50], lter [40/90], Loss: 0.0617\n",
      "Epoch [43/50], lter [60/90], Loss: 0.0043\n",
      "Epoch [43/50], lter [80/90], Loss: 0.0006\n",
      "Epoch [44/50], lter [20/90], Loss: 0.0158\n",
      "Epoch [44/50], lter [40/90], Loss: 0.0605\n",
      "Epoch [44/50], lter [60/90], Loss: 0.0018\n",
      "Epoch [44/50], lter [80/90], Loss: 0.0215\n",
      "Epoch [45/50], lter [20/90], Loss: 0.0273\n",
      "Epoch [45/50], lter [40/90], Loss: 0.0081\n",
      "Epoch [45/50], lter [60/90], Loss: 0.5069\n",
      "Epoch [45/50], lter [80/90], Loss: 0.0091\n",
      "Epoch [46/50], lter [20/90], Loss: 0.0536\n",
      "Epoch [46/50], lter [40/90], Loss: 0.1132\n",
      "Epoch [46/50], lter [60/90], Loss: 0.0019\n",
      "Epoch [46/50], lter [80/90], Loss: 0.0068\n",
      "Epoch [47/50], lter [20/90], Loss: 0.0044\n",
      "Epoch [47/50], lter [40/90], Loss: 0.0045\n",
      "Epoch [47/50], lter [60/90], Loss: 0.1696\n",
      "Epoch [47/50], lter [80/90], Loss: 0.0943\n",
      "Epoch [48/50], lter [20/90], Loss: 0.0024\n",
      "Epoch [48/50], lter [40/90], Loss: 0.0026\n",
      "Epoch [48/50], lter [60/90], Loss: 0.0955\n",
      "Epoch [48/50], lter [80/90], Loss: 0.0046\n",
      "Epoch [49/50], lter [20/90], Loss: 0.0032\n",
      "Epoch [49/50], lter [40/90], Loss: 0.0002\n",
      "Epoch [49/50], lter [60/90], Loss: 0.0022\n",
      "Epoch [49/50], lter [80/90], Loss: 0.0006\n"
     ]
    },
    {
     "name": "stdout",
     "output_type": "stream",
     "text": [
      "Epoch [50/50], lter [20/90], Loss: 0.0042\n",
      "Epoch [50/50], lter [40/90], Loss: 0.1019\n",
      "Epoch [50/50], lter [60/90], Loss: 0.0025\n",
      "Epoch [50/50], lter [80/90], Loss: 0.0009\n",
      "Learning Finished!\n"
     ]
    }
   ],
   "source": [
    "for epoch in range(num_epochs):\n",
    "    \n",
    "    total_batch = len(train_data) // batch_size\n",
    "    \n",
    "    for i, (batch_text, batch_labels) in enumerate(train_loader):\n",
    "        \n",
    "        X = batch_text.view(-1, dim)\n",
    "        Y = batch_labels\n",
    "        \n",
    "        pre = model(X)\n",
    "        cost = loss(pre, Y)\n",
    "        \n",
    "        optimizer.zero_grad()\n",
    "        cost.backward()\n",
    "        optimizer.step()\n",
    "        \n",
    "        if (i+1) % 20 == 0:\n",
    "            print('Epoch [%d/%d], lter [%d/%d], Loss: %.4f'\n",
    "                 %(epoch+1, num_epochs, i+1, total_batch, cost.item()))\n",
    "    \n",
    "print(\"Learning Finished!\")"
   ]
  },
  {
   "cell_type": "markdown",
   "metadata": {},
   "source": [
    "## 17.7 Test Model"
   ]
  },
  {
   "cell_type": "code",
   "execution_count": 23,
   "metadata": {},
   "outputs": [],
   "source": [
    "x_test = torch.from_numpy(test_data).type(torch.FloatTensor)\n",
    "y_test = torch.from_numpy(test_label).type(torch.LongTensor)\n",
    "\n",
    "test_data = TensorDataset(x_test, y_test)\n",
    "\n",
    "test_loader  = DataLoader(dataset=test_data,\n",
    "                          batch_size=1,\n",
    "                          shuffle=True)"
   ]
  },
  {
   "cell_type": "code",
   "execution_count": 24,
   "metadata": {},
   "outputs": [
    {
     "name": "stdout",
     "output_type": "stream",
     "text": [
      "Accuracy of test text: 78.547855 %\n"
     ]
    }
   ],
   "source": [
    "model.eval()\n",
    "\n",
    "correct = 0\n",
    "total = 0\n",
    "\n",
    "for text, labels in test_loader:\n",
    "    \n",
    "    text = text.view(-1, dim)\n",
    "    outputs = model(text)\n",
    "    \n",
    "    _, pre = torch.max(outputs.data, 1)\n",
    "    total += 1\n",
    "    correct += (pre == labels).sum()\n",
    "    \n",
    "print('Accuracy of test text: %f %%' % (100 * float(correct) / total))"
   ]
  },
  {
   "cell_type": "markdown",
   "metadata": {},
   "source": [
    "## 17.8 Test Sentence"
   ]
  },
  {
   "cell_type": "code",
   "execution_count": 25,
   "metadata": {},
   "outputs": [],
   "source": [
    "def IsitHot(string) :\n",
    "    \n",
    "    results= []\n",
    "    tokens = tokenizer.pos(string, norm=True, stem=True)\n",
    "\n",
    "    for token in tokens:\n",
    "        if not token[1] in [\"Josa\", \"Eomi\", \"Punctuation\"]:\n",
    "            results.append(token[0])\n",
    "   \n",
    "    sample = cnv.transform([\" \".join(results).strip()]).toarray()\n",
    "    sample = torch.from_numpy(sample).type(torch.FloatTensor)\n",
    "    outputs = model(sample)\n",
    "    pre = torch.max(outputs.data, 1)[1].numpy()\n",
    "    \n",
    "    if pre == 0 : \n",
    "        print(\"분석 결과 : 발열 거의 없음\")\n",
    "    elif pre == 1 :\n",
    "        print(\"분석 결과 : 발열 조금 있음\")\n",
    "    else :\n",
    "        print(\"분석 결과 : 발열 매우 심함\")"
   ]
  },
  {
   "cell_type": "code",
   "execution_count": 26,
   "metadata": {},
   "outputs": [
    {
     "name": "stdout",
     "output_type": "stream",
     "text": [
      "분석 결과 : 발열 매우 심함\n"
     ]
    }
   ],
   "source": [
    "IsitHot(\"노트북이 너무 뜨거워요\")"
   ]
  },
  {
   "cell_type": "code",
   "execution_count": 27,
   "metadata": {
    "scrolled": true
   },
   "outputs": [
    {
     "name": "stdout",
     "output_type": "stream",
     "text": [
      "분석 결과 : 발열 거의 없음\n"
     ]
    }
   ],
   "source": [
    "IsitHot(\"발열을 잘 잡았네요\")"
   ]
  }
 ],
 "metadata": {
  "kernelspec": {
   "display_name": "Python [conda env:pytorch_p36]",
   "language": "python",
   "name": "conda-env-pytorch_p36-py"
  },
  "language_info": {
   "codemirror_mode": {
    "name": "ipython",
    "version": 3
   },
   "file_extension": ".py",
   "mimetype": "text/x-python",
   "name": "python",
   "nbconvert_exporter": "python",
   "pygments_lexer": "ipython3",
   "version": "3.6.5"
  },
  "varInspector": {
   "cols": {
    "lenName": 16,
    "lenType": 16,
    "lenVar": 40
   },
   "kernels_config": {
    "python": {
     "delete_cmd_postfix": "",
     "delete_cmd_prefix": "del ",
     "library": "var_list.py",
     "varRefreshCmd": "print(var_dic_list())"
    },
    "r": {
     "delete_cmd_postfix": ") ",
     "delete_cmd_prefix": "rm(",
     "library": "var_list.r",
     "varRefreshCmd": "cat(var_dic_list()) "
    }
   },
   "types_to_exclude": [
    "module",
    "function",
    "builtin_function_or_method",
    "instance",
    "_Feature"
   ],
   "window_display": false
  }
 },
 "nbformat": 4,
 "nbformat_minor": 2
}
