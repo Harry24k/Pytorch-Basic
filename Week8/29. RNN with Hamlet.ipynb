{
 "cells": [
  {
   "cell_type": "markdown",
   "metadata": {},
   "source": [
    "# 29. RNN with Hamlet"
   ]
  },
  {
   "cell_type": "code",
   "execution_count": 1,
   "metadata": {},
   "outputs": [],
   "source": [
    "import torch\n",
    "import torch.nn as nn\n",
    "\n",
    "import nltk\n",
    "\n",
    "import random\n",
    "import numpy as np"
   ]
  },
  {
   "cell_type": "markdown",
   "metadata": {},
   "source": [
    "## 29.1 Prepare Data"
   ]
  },
  {
   "cell_type": "code",
   "execution_count": 2,
   "metadata": {},
   "outputs": [
    {
     "name": "stdout",
     "output_type": "stream",
     "text": [
      "[nltk_data] Downloading package gutenberg to\n",
      "[nltk_data]     C:\\Users\\slcf\\AppData\\Roaming\\nltk_data...\n",
      "[nltk_data]   Package gutenberg is already up-to-date!\n"
     ]
    },
    {
     "data": {
      "text/plain": [
       "True"
      ]
     },
     "execution_count": 2,
     "metadata": {},
     "output_type": "execute_result"
    }
   ],
   "source": [
    "nltk.download(\"gutenberg\")"
   ]
  },
  {
   "cell_type": "code",
   "execution_count": 32,
   "metadata": {},
   "outputs": [
    {
     "name": "stdout",
     "output_type": "stream",
     "text": [
      "[The Tragedie of Hamlet by William Shakespeare 1599]\n",
      "\n",
      "\n",
      "Actus Primus. Scoena Prima.\n",
      "\n",
      "Enter Barnardo and Francisco two Centinels.\n",
      "\n",
      "  Barnardo. Who's there?\n",
      "  Fran. Nay answer me: Stand & vnfold\n",
      "your selfe\n",
      "\n",
      "   Bar. Long liue the King\n",
      "\n",
      "   Fran. Barnardo?\n",
      "  Bar. He\n",
      "\n",
      "   Fran. You come most carefully vpon your houre\n",
      "\n",
      "   Bar. 'Tis now strook twelue, get thee to bed Francisco\n",
      "\n",
      "   Fran. For this releefe much thankes: 'Tis bitter cold,\n",
      "And I am sicke at heart\n",
      "\n",
      "   Barn. Haue you had quiet Guard?\n",
      "  Fran. Not a Mouse stirring\n",
      "\n",
      "   Barn. Well, goodnight. If you do meet Horatio and\n",
      "Marcellus, the Riuals of my \n"
     ]
    }
   ],
   "source": [
    "raw = nltk.corpus.gutenberg.raw(\"shakespeare-hamlet.txt\")\n",
    "print(raw[:600])"
   ]
  },
  {
   "cell_type": "markdown",
   "metadata": {},
   "source": [
    "## 29.2 Char to Dic"
   ]
  },
  {
   "cell_type": "code",
   "execution_count": 4,
   "metadata": {},
   "outputs": [],
   "source": [
    "char2index = {}\n",
    "index2char = []\n",
    "\n",
    "for char in raw :\n",
    "    if char not in char2index.keys() :\n",
    "        char2index[char] = len(char2index)\n",
    "        index2char.append(char)"
   ]
  },
  {
   "cell_type": "code",
   "execution_count": 5,
   "metadata": {
    "scrolled": true
   },
   "outputs": [
    {
     "data": {
      "text/plain": [
       "{'[': 0,\n",
       " 'T': 1,\n",
       " 'h': 2,\n",
       " 'e': 3,\n",
       " ' ': 4,\n",
       " 'r': 5,\n",
       " 'a': 6,\n",
       " 'g': 7,\n",
       " 'd': 8,\n",
       " 'i': 9,\n",
       " 'o': 10,\n",
       " 'f': 11,\n",
       " 'H': 12,\n",
       " 'm': 13,\n",
       " 'l': 14,\n",
       " 't': 15,\n",
       " 'b': 16,\n",
       " 'y': 17,\n",
       " 'W': 18,\n",
       " 'S': 19,\n",
       " 'k': 20,\n",
       " 's': 21,\n",
       " 'p': 22,\n",
       " '1': 23,\n",
       " '5': 24,\n",
       " '9': 25,\n",
       " ']': 26,\n",
       " '\\n': 27,\n",
       " 'A': 28,\n",
       " 'c': 29,\n",
       " 'u': 30,\n",
       " 'P': 31,\n",
       " '.': 32,\n",
       " 'n': 33,\n",
       " 'E': 34,\n",
       " 'B': 35,\n",
       " 'F': 36,\n",
       " 'w': 37,\n",
       " 'C': 38,\n",
       " \"'\": 39,\n",
       " '?': 40,\n",
       " 'N': 41,\n",
       " ':': 42,\n",
       " '&': 43,\n",
       " 'v': 44,\n",
       " 'L': 45,\n",
       " 'K': 46,\n",
       " 'Y': 47,\n",
       " ',': 48,\n",
       " 'I': 49,\n",
       " 'q': 50,\n",
       " 'G': 51,\n",
       " 'M': 52,\n",
       " 'R': 53,\n",
       " '-': 54,\n",
       " 'D': 55,\n",
       " 'O': 56,\n",
       " 'x': 57,\n",
       " ';': 58,\n",
       " 'Q': 59,\n",
       " 'z': 60,\n",
       " '(': 61,\n",
       " ')': 62,\n",
       " 'V': 63,\n",
       " '!': 64,\n",
       " 'j': 65,\n",
       " 'Z': 66}"
      ]
     },
     "execution_count": 5,
     "metadata": {},
     "output_type": "execute_result"
    }
   ],
   "source": [
    "char2index"
   ]
  },
  {
   "cell_type": "code",
   "execution_count": 6,
   "metadata": {
    "scrolled": true
   },
   "outputs": [
    {
     "name": "stdout",
     "output_type": "stream",
     "text": [
      "Dimension of input & output : 67\n"
     ]
    }
   ],
   "source": [
    "dim = len(char2index)\n",
    "print(\"Dimension of input & output :\", dim)"
   ]
  },
  {
   "cell_type": "code",
   "execution_count": 7,
   "metadata": {},
   "outputs": [],
   "source": [
    "char2vec = {}\n",
    "eye = np.eye(len(char2index))\n",
    "\n",
    "for item in char2index.keys() :\n",
    "    char2vec[item] = eye[char2index[item],:]"
   ]
  },
  {
   "cell_type": "code",
   "execution_count": 8,
   "metadata": {},
   "outputs": [
    {
     "data": {
      "text/plain": [
       "array([0., 0., 0., 0., 0., 0., 1., 0., 0., 0., 0., 0., 0., 0., 0., 0., 0.,\n",
       "       0., 0., 0., 0., 0., 0., 0., 0., 0., 0., 0., 0., 0., 0., 0., 0., 0.,\n",
       "       0., 0., 0., 0., 0., 0., 0., 0., 0., 0., 0., 0., 0., 0., 0., 0., 0.,\n",
       "       0., 0., 0., 0., 0., 0., 0., 0., 0., 0., 0., 0., 0., 0., 0., 0.])"
      ]
     },
     "execution_count": 8,
     "metadata": {},
     "output_type": "execute_result"
    }
   ],
   "source": [
    "char2vec['a']"
   ]
  },
  {
   "cell_type": "code",
   "execution_count": 9,
   "metadata": {},
   "outputs": [],
   "source": [
    "data = np.array([char2vec[char] for char in raw])"
   ]
  },
  {
   "cell_type": "markdown",
   "metadata": {},
   "source": [
    "## 29.3 Define Model"
   ]
  },
  {
   "cell_type": "code",
   "execution_count": 10,
   "metadata": {},
   "outputs": [],
   "source": [
    "# https://pytorch.org/docs/stable/nn.html#torch.nn.RNN\n",
    "\n",
    "# Parameters:\t\n",
    "# input_size – The number of expected features in the input x\n",
    "# hidden_size – The number of features in the hidden state h\n",
    "# bias – If False, then the layer does not use bias weights b_ih and b_hh"
   ]
  },
  {
   "cell_type": "code",
   "execution_count": 11,
   "metadata": {},
   "outputs": [],
   "source": [
    "class RNN(nn.Module):\n",
    "    def __init__(self, input_size, hidden_size, output_size):\n",
    "        super(RNN, self).__init__()\n",
    "        self.input_size = input_size\n",
    "        self.hidden_size = hidden_size\n",
    "        self.output_size = output_size\n",
    "        \n",
    "        self.hidden = torch.zeros(1, 1, hidden_size).cuda()\n",
    "        self.rnn = nn.RNN(input_size, hidden_size)\n",
    "        self.fc = nn.Linear(hidden_size, output_size)\n",
    "        \n",
    "    def forward(self, x):\n",
    "        out, hidden = self.rnn(x, self.hidden)\n",
    "        self.hidden = hidden\n",
    "        out = self.fc(out)\n",
    "        return out\n",
    "\n",
    "    def init_hidden(self):\n",
    "        self.hidden = torch.zeros(1, 1, self.hidden_size).cuda()"
   ]
  },
  {
   "cell_type": "code",
   "execution_count": 12,
   "metadata": {},
   "outputs": [],
   "source": [
    "model = RNN(dim, 250, dim).cuda()"
   ]
  },
  {
   "cell_type": "markdown",
   "metadata": {},
   "source": [
    "## 29.4 Train Model"
   ]
  },
  {
   "cell_type": "code",
   "execution_count": 13,
   "metadata": {},
   "outputs": [],
   "source": [
    "optimizer = torch.optim.Adam(model.parameters(), lr=0.001)\n",
    "loss = nn.CrossEntropyLoss()"
   ]
  },
  {
   "cell_type": "code",
   "execution_count": 14,
   "metadata": {},
   "outputs": [],
   "source": [
    "seq_len = 50\n",
    "num_epochs = 3"
   ]
  },
  {
   "cell_type": "code",
   "execution_count": 15,
   "metadata": {
    "scrolled": true
   },
   "outputs": [
    {
     "name": "stdout",
     "output_type": "stream",
     "text": [
      "Epoch [1/3], Iter [100/3256] Loss: 174.2100\n",
      "Epoch [1/3], Iter [200/3256] Loss: 145.6897\n",
      "Epoch [1/3], Iter [300/3256] Loss: 131.9865\n",
      "Epoch [1/3], Iter [400/3256] Loss: 142.8333\n",
      "Epoch [1/3], Iter [500/3256] Loss: 123.4497\n",
      "Epoch [1/3], Iter [600/3256] Loss: 127.7180\n",
      "Epoch [1/3], Iter [700/3256] Loss: 136.6803\n",
      "Epoch [1/3], Iter [800/3256] Loss: 123.8845\n",
      "Epoch [1/3], Iter [900/3256] Loss: 124.9588\n",
      "Epoch [1/3], Iter [1000/3256] Loss: 113.5791\n",
      "Epoch [1/3], Iter [1100/3256] Loss: 95.0254\n",
      "Epoch [1/3], Iter [1200/3256] Loss: 128.6707\n",
      "Epoch [1/3], Iter [1300/3256] Loss: 113.9096\n",
      "Epoch [1/3], Iter [1400/3256] Loss: 97.9635\n",
      "Epoch [1/3], Iter [1500/3256] Loss: 126.5029\n",
      "Epoch [1/3], Iter [1600/3256] Loss: 115.5672\n",
      "Epoch [1/3], Iter [1700/3256] Loss: 125.6660\n",
      "Epoch [1/3], Iter [1800/3256] Loss: 125.8327\n",
      "Epoch [1/3], Iter [1900/3256] Loss: 129.0406\n",
      "Epoch [1/3], Iter [2000/3256] Loss: 111.0097\n",
      "Epoch [1/3], Iter [2100/3256] Loss: 129.7700\n",
      "Epoch [1/3], Iter [2200/3256] Loss: 88.9129\n",
      "Epoch [1/3], Iter [2300/3256] Loss: 106.0849\n",
      "Epoch [1/3], Iter [2400/3256] Loss: 114.4359\n",
      "Epoch [1/3], Iter [2500/3256] Loss: 89.7255\n",
      "Epoch [1/3], Iter [2600/3256] Loss: 104.8320\n",
      "Epoch [1/3], Iter [2700/3256] Loss: 98.9899\n",
      "Epoch [1/3], Iter [2800/3256] Loss: 105.7783\n",
      "Epoch [1/3], Iter [2900/3256] Loss: 105.9006\n",
      "Epoch [1/3], Iter [3000/3256] Loss: 113.5091\n",
      "Epoch [1/3], Iter [3100/3256] Loss: 99.8133\n",
      "Epoch [1/3], Iter [3200/3256] Loss: 120.2095\n",
      "Epoch [2/3], Iter [100/3256] Loss: 83.5259\n",
      "Epoch [2/3], Iter [200/3256] Loss: 102.3922\n",
      "Epoch [2/3], Iter [300/3256] Loss: 106.5442\n",
      "Epoch [2/3], Iter [400/3256] Loss: 77.4118\n",
      "Epoch [2/3], Iter [500/3256] Loss: 117.2869\n",
      "Epoch [2/3], Iter [600/3256] Loss: 105.6651\n",
      "Epoch [2/3], Iter [700/3256] Loss: 106.2747\n",
      "Epoch [2/3], Iter [800/3256] Loss: 94.6664\n",
      "Epoch [2/3], Iter [900/3256] Loss: 101.5720\n",
      "Epoch [2/3], Iter [1000/3256] Loss: 119.3389\n",
      "Epoch [2/3], Iter [1100/3256] Loss: 103.9646\n",
      "Epoch [2/3], Iter [1200/3256] Loss: 112.5432\n",
      "Epoch [2/3], Iter [1300/3256] Loss: 112.3165\n",
      "Epoch [2/3], Iter [1400/3256] Loss: 133.9263\n",
      "Epoch [2/3], Iter [1500/3256] Loss: 96.1642\n",
      "Epoch [2/3], Iter [1600/3256] Loss: 99.8789\n",
      "Epoch [2/3], Iter [1700/3256] Loss: 95.0795\n",
      "Epoch [2/3], Iter [1800/3256] Loss: 119.7127\n",
      "Epoch [2/3], Iter [1900/3256] Loss: 91.0910\n",
      "Epoch [2/3], Iter [2000/3256] Loss: 82.6495\n",
      "Epoch [2/3], Iter [2100/3256] Loss: 102.1817\n",
      "Epoch [2/3], Iter [2200/3256] Loss: 76.2290\n",
      "Epoch [2/3], Iter [2300/3256] Loss: 135.1299\n",
      "Epoch [2/3], Iter [2400/3256] Loss: 89.2523\n",
      "Epoch [2/3], Iter [2500/3256] Loss: 105.6198\n",
      "Epoch [2/3], Iter [2600/3256] Loss: 111.6652\n",
      "Epoch [2/3], Iter [2700/3256] Loss: 89.0943\n",
      "Epoch [2/3], Iter [2800/3256] Loss: 110.6476\n",
      "Epoch [2/3], Iter [2900/3256] Loss: 115.6966\n",
      "Epoch [2/3], Iter [3000/3256] Loss: 127.1536\n",
      "Epoch [2/3], Iter [3100/3256] Loss: 102.3958\n",
      "Epoch [2/3], Iter [3200/3256] Loss: 105.5532\n",
      "Epoch [3/3], Iter [100/3256] Loss: 127.7100\n",
      "Epoch [3/3], Iter [200/3256] Loss: 101.0748\n",
      "Epoch [3/3], Iter [300/3256] Loss: 104.0217\n",
      "Epoch [3/3], Iter [400/3256] Loss: 108.0285\n",
      "Epoch [3/3], Iter [500/3256] Loss: 86.8625\n",
      "Epoch [3/3], Iter [600/3256] Loss: 99.2941\n",
      "Epoch [3/3], Iter [700/3256] Loss: 74.8097\n",
      "Epoch [3/3], Iter [800/3256] Loss: 93.7902\n",
      "Epoch [3/3], Iter [900/3256] Loss: 76.1072\n",
      "Epoch [3/3], Iter [1000/3256] Loss: 100.2898\n",
      "Epoch [3/3], Iter [1100/3256] Loss: 113.0939\n",
      "Epoch [3/3], Iter [1200/3256] Loss: 123.9827\n",
      "Epoch [3/3], Iter [1300/3256] Loss: 81.0085\n",
      "Epoch [3/3], Iter [1400/3256] Loss: 104.1049\n",
      "Epoch [3/3], Iter [1500/3256] Loss: 114.4318\n",
      "Epoch [3/3], Iter [1600/3256] Loss: 97.3719\n",
      "Epoch [3/3], Iter [1700/3256] Loss: 106.9872\n",
      "Epoch [3/3], Iter [1800/3256] Loss: 97.0017\n",
      "Epoch [3/3], Iter [1900/3256] Loss: 70.9581\n",
      "Epoch [3/3], Iter [2000/3256] Loss: 104.8051\n",
      "Epoch [3/3], Iter [2100/3256] Loss: 97.2819\n",
      "Epoch [3/3], Iter [2200/3256] Loss: 90.7554\n",
      "Epoch [3/3], Iter [2300/3256] Loss: 90.1183\n",
      "Epoch [3/3], Iter [2400/3256] Loss: 100.5424\n",
      "Epoch [3/3], Iter [2500/3256] Loss: 114.4038\n",
      "Epoch [3/3], Iter [2600/3256] Loss: 106.8099\n",
      "Epoch [3/3], Iter [2700/3256] Loss: 100.8929\n",
      "Epoch [3/3], Iter [2800/3256] Loss: 81.5547\n",
      "Epoch [3/3], Iter [2900/3256] Loss: 77.4192\n",
      "Epoch [3/3], Iter [3000/3256] Loss: 104.0407\n",
      "Epoch [3/3], Iter [3100/3256] Loss: 74.5521\n",
      "Epoch [3/3], Iter [3200/3256] Loss: 114.1216\n"
     ]
    }
   ],
   "source": [
    "for epoch in range(num_epochs):\n",
    "    \n",
    "    sp = list(range(0, len(data) - 2 * seq_len, seq_len))\n",
    "    sp = np.add(sp, random.randint(0, seq_len))\n",
    "    random.shuffle(sp)\n",
    "    \n",
    "    for i in range(len(sp)) :\n",
    "    \n",
    "        model.init_hidden()\n",
    "        cost = 0\n",
    "            \n",
    "        for pos in range(sp[i], sp[i] + seq_len):\n",
    "            \n",
    "            X = torch.from_numpy(data[pos]).type(torch.FloatTensor)\n",
    "            X = X.reshape(1, 1, dim).cuda()\n",
    "            y = torch.from_numpy(data[pos+1]).cuda()\n",
    "            \n",
    "            _, y = y.max(dim=0)\n",
    "            \n",
    "            pre = model(X)\n",
    "            cost += loss(pre.reshape(1, dim), y.reshape(1).cuda())\n",
    "\n",
    "        optimizer.zero_grad()\n",
    "        cost.backward()\n",
    "        \n",
    "        nn.utils.clip_grad_norm_(model.parameters(), 5)\n",
    "        \n",
    "        optimizer.step()\n",
    "\n",
    "        if (i + 1) % 1000 == 0 :\n",
    "            print('Epoch [%d/%d], Iter [%d/%d] Loss: %.4f'\n",
    "                     %(epoch+1, num_epochs, i + 1, len(sp), cost.item()))"
   ]
  },
  {
   "cell_type": "markdown",
   "metadata": {},
   "source": [
    "## 29.5 Test Model"
   ]
  },
  {
   "cell_type": "code",
   "execution_count": 16,
   "metadata": {
    "scrolled": false
   },
   "outputs": [
    {
     "name": "stdout",
     "output_type": "stream",
     "text": [
      "* Generated Text : \n",
      "ther and the King the King the King the King the King the King the King the King the King the King the King the King the King the King the King the King the King the King the King the King the King the King the King the King the King the King the King the King the King the King the King the King the King the King the King the King the King the King the King the King the King the King the King the King the King the King the King the King the King the King the King the King the King the King the Ki\n"
     ]
    }
   ],
   "source": [
    "start = 't'\n",
    "text = start\n",
    "\n",
    "model.eval()\n",
    "model.init_hidden()\n",
    "\n",
    "X_test = torch.from_numpy(char2vec[start]).type(torch.FloatTensor)\n",
    "X_test = X_test.reshape(1, 1, dim).cuda()\n",
    "    \n",
    "for i in range(500) :\n",
    "\n",
    "    pre = model(X_test)\n",
    "    pre = pre.reshape(-1)\n",
    "    \n",
    "    _, pre = torch.max(pre, 0)\n",
    "    new_char = index2char[pre]\n",
    "    text += new_char\n",
    "    \n",
    "    X_test = torch.from_numpy(char2vec[new_char]).type(torch.FloatTensor)\n",
    "    X_test = X_test.reshape(1, 1, dim).cuda()\n",
    "    \n",
    "print(\"* Generated Text : \")\n",
    "print(text)"
   ]
  },
  {
   "cell_type": "markdown",
   "metadata": {},
   "source": [
    "## 29.6 Test Model with Best-5 Sampling"
   ]
  },
  {
   "cell_type": "code",
   "execution_count": 17,
   "metadata": {},
   "outputs": [],
   "source": [
    "def get_top_index(x, num) :\n",
    "    \n",
    "    top_index = np.argsort(x)[::-1][:num]\n",
    "    top_prob = x[top_index]\n",
    "    \n",
    "    # Softmax\n",
    "    top_prob = np.exp(top_prob)\n",
    "    top_prob = top_prob / top_prob.sum()\n",
    "    \n",
    "    random_index = np.random.choice(top_index, 1, p = top_prob)[0]\n",
    "    \n",
    "    return random_index"
   ]
  },
  {
   "cell_type": "code",
   "execution_count": 18,
   "metadata": {
    "scrolled": false
   },
   "outputs": [
    {
     "name": "stdout",
     "output_type": "stream",
     "text": [
      "* Generated Text : \n",
      " mar herringes, it in his the mante serues on a wall not him shile, all\n",
      "\n",
      "   King. Hellenes them a dise,\n",
      "But which a daucter, and heme, and this bue mad,\n",
      "And whit the Kisg\n",
      "\n",
      "   King., Is offerion,\n",
      "Than shing of as is\n",
      "Ant be wesce the ban a dowhing of the the that?\n",
      "  Cporn. If a deetiell\n",
      "\n",
      "   Qu. I am the thou hall his araund, and thous\n",
      "\n",
      "   Ham. No mo great the King,\n",
      "But leuse ties,\n",
      "And thores your sine seene,\n",
      "That the Aspences\n",
      "\n",
      "   Ham. No, tho benteere this to haul that?\n",
      "  Oppar.\n",
      "\n",
      "  Hor. Now leat it\n"
     ]
    }
   ],
   "source": [
    "start = ' '\n",
    "text = start\n",
    "\n",
    "model.eval()\n",
    "model.init_hidden()\n",
    "\n",
    "X_test = torch.from_numpy(char2vec[start]).type(torch.FloatTensor)\n",
    "X_test = X_test.reshape(1, 1, dim).cuda()\n",
    "\n",
    "for i in range(500) :\n",
    "\n",
    "    pre = model(X_test)\n",
    "    pre = pre.reshape(-1).cpu().data.numpy()\n",
    "    \n",
    "    pre = get_top_index(pre, 5)\n",
    "    new_char = index2char[pre]\n",
    "    text += new_char\n",
    "    \n",
    "    X_test = torch.from_numpy(char2vec[new_char]).type(torch.FloatTensor)\n",
    "    X_test = X_test.reshape(1, 1, dim).cuda()\n",
    "    \n",
    "print(\"* Generated Text : \")\n",
    "print(text)"
   ]
  }
 ],
 "metadata": {
  "kernelspec": {
   "display_name": "Python 3",
   "language": "python",
   "name": "python3"
  },
  "language_info": {
   "codemirror_mode": {
    "name": "ipython",
    "version": 3
   },
   "file_extension": ".py",
   "mimetype": "text/x-python",
   "name": "python",
   "nbconvert_exporter": "python",
   "pygments_lexer": "ipython3",
   "version": "3.6.5"
  },
  "varInspector": {
   "cols": {
    "lenName": 16,
    "lenType": 16,
    "lenVar": 40
   },
   "kernels_config": {
    "python": {
     "delete_cmd_postfix": "",
     "delete_cmd_prefix": "del ",
     "library": "var_list.py",
     "varRefreshCmd": "print(var_dic_list())"
    },
    "r": {
     "delete_cmd_postfix": ") ",
     "delete_cmd_prefix": "rm(",
     "library": "var_list.r",
     "varRefreshCmd": "cat(var_dic_list()) "
    }
   },
   "types_to_exclude": [
    "module",
    "function",
    "builtin_function_or_method",
    "instance",
    "_Feature"
   ],
   "window_display": false
  }
 },
 "nbformat": 4,
 "nbformat_minor": 2
}
